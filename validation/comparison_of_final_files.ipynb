{
 "cells": [
  {
   "attachments": {},
   "cell_type": "markdown",
   "metadata": {},
   "source": [
    "# EDA of final final and comparison with old file"
   ]
  },
  {
   "attachments": {},
   "cell_type": "markdown",
   "metadata": {},
   "source": [
    "## 1. Preliminaries"
   ]
  },
  {
   "cell_type": "code",
<<<<<<< HEAD
   "execution_count": 2,
=======
   "execution_count": null,
>>>>>>> main
   "metadata": {},
   "outputs": [],
   "source": [
    "import pandas as pd\n",
    "import seaborn as sns\n",
    "from matplotlib import pyplot as plt\n",
    "import os\n",
    "import numpy as np\n",
    "from comparison_of_final_files.compare_two_final_csvs import FinalCrbaFileComparator\n",
    "#from comparison_of_final_files import FinalCrbaFileComparator"
   ]
  },
  {
   "cell_type": "code",
<<<<<<< HEAD
   "execution_count": 10,
   "metadata": {},
   "outputs": [
    {
     "data": {
      "text/plain": [
       "206"
      ]
     },
     "execution_count": 10,
     "metadata": {},
     "output_type": "execute_result"
    }
   ],
   "source": [
    "len(my_comparer.df_1[\"INDICATOR_CODE\"].unique())"
   ]
  },
  {
   "cell_type": "code",
   "execution_count": 4,
   "metadata": {},
   "outputs": [
    {
     "name": "stderr",
     "output_type": "stream",
     "text": [
      "C:\\Users\\info\\AppData\\Local\\Temp\\ipykernel_25532\\857336715.py:3: FutureWarning: In a future version of pandas all arguments of read_csv except for the argument 'filepath_or_buffer' will be keyword-only.\n",
      "  crba_final_2020 = pd.read_csv(\"D:\\\\Documents\\\\2020\\\\28_UNICEF\\\\10_working_repo\\\\data-etl\\\\data_out\\\\crba_final_sdmx_ready.csv\", \";\")\n",
      "C:\\Users\\info\\AppData\\Local\\Temp\\ipykernel_25532\\857336715.py:3: DtypeWarning: Columns (23,25) have mixed types. Specify dtype option on import or set low_memory=False.\n",
      "  crba_final_2020 = pd.read_csv(\"D:\\\\Documents\\\\2020\\\\28_UNICEF\\\\10_working_repo\\\\data-etl\\\\data_out\\\\crba_final_sdmx_ready.csv\", \";\")\n",
      "C:\\Users\\info\\AppData\\Local\\Temp\\ipykernel_25532\\857336715.py:4: FutureWarning: In a future version of pandas all arguments of read_csv except for the argument 'filepath_or_buffer' will be keyword-only.\n",
      "  crba_final_2023 = pd.read_csv(\"D:\\\\Documents\\\\2023\\\\7_UNICEF\\\\major-dax-crba-etl\\\\crba-etl\\\\config\\\\2023\\\\out\\\\data\\\\crba_final.csv\", \";\")\n",
      "C:\\Users\\info\\AppData\\Local\\Temp\\ipykernel_25532\\857336715.py:4: DtypeWarning: Columns (1,2,3,16,27,29,30,38) have mixed types. Specify dtype option on import or set low_memory=False.\n",
      "  crba_final_2023 = pd.read_csv(\"D:\\\\Documents\\\\2023\\\\7_UNICEF\\\\major-dax-crba-etl\\\\crba-etl\\\\config\\\\2023\\\\out\\\\data\\\\crba_final.csv\", \";\")\n"
     ]
    }
   ],
=======
   "execution_count": null,
   "metadata": {},
   "outputs": [],
   "source": [
    "len(my_comparer.df_1[\"INDICATOR_CODE\"].unique())"
   ]
  },
  {
   "cell_type": "code",
   "execution_count": null,
   "metadata": {},
   "outputs": [],
>>>>>>> main
   "source": [
    "# Instantiate class\n",
    "\n",
    "crba_final_2020 = pd.read_csv(\"D:\\\\Documents\\\\2020\\\\28_UNICEF\\\\10_working_repo\\\\data-etl\\\\data_out\\\\crba_final_sdmx_ready.csv\", \";\") \n",
    "crba_final_2023 = pd.read_csv(\"D:\\\\Documents\\\\2023\\\\7_UNICEF\\\\major-dax-crba-etl\\\\crba-etl\\\\config\\\\2023\\\\out\\\\data\\\\crba_final.csv\", \";\")\n",
    "\n",
    "my_comparer = FinalCrbaFileComparator(\n",
    "    crba_final_2020,\n",
    "    crba_final_2023\n",
    ")\n",
    "\n",
    "# NB: df_2 is crba_final_2023"
   ]
  },
  {
   "attachments": {},
   "cell_type": "markdown",
   "metadata": {},
   "source": [
    "# 2. EDA on final file\n",
    "\n",
    "1. Number of NAN countries per indicator\n",
    "2. Number of NA observations per country\n",
    "3. Number of indicators per category\n",
    "4. Top and bottom 5 countries overall and per INDEX"
   ]
  },
  {
   "attachments": {},
   "cell_type": "markdown",
   "metadata": {},
   "source": [
    "## 2.1 Numer of NAN countries per indicator"
   ]
  },
  {
   "cell_type": "code",
<<<<<<< HEAD
   "execution_count": 5,
   "metadata": {},
   "outputs": [
    {
     "data": {
      "text/plain": [
       "INDICATOR_CODE\n",
       "CE_RD_LF_COCLCH      0\n",
       "WP_DW_LF_MIWOFC      0\n",
       "WP_DW_LF_MIWAFC      0\n",
       "WP_CL_LF_ABFOLC      0\n",
       "CE_RD_LF_BASCON      0\n",
       "                  ... \n",
       "CE_RD_EN_REGOEM    160\n",
       "MP_MA_LF_REMACH    160\n",
       "MP_PS_OC_ELWARE    164\n",
       "WP_DW_EN_COBACO    176\n",
       "WP_DW_OC_FREASS    186\n",
       "Length: 197, dtype: int64"
      ]
     },
     "execution_count": 5,
     "metadata": {},
     "output_type": "execute_result"
    }
   ],
=======
   "execution_count": null,
   "metadata": {},
   "outputs": [],
>>>>>>> main
   "source": [
    "# Number of NAN countries per indicator\n",
    "my_comparer.get_number_of_NA_per_column_value(\n",
    "    my_comparer.df_2,\n",
    "    column_for_per_category=\"INDICATOR_CODE\"\n",
    ")"
   ]
  },
  {
   "attachments": {},
   "cell_type": "markdown",
   "metadata": {},
   "source": [
    "## 2.2 Numer of NA observations per country"
   ]
  },
  {
   "cell_type": "code",
<<<<<<< HEAD
   "execution_count": 6,
   "metadata": {},
   "outputs": [],
   "source": [
    "#my_comparer.df_2"
   ]
  },
  {
   "cell_type": "code",
   "execution_count": 7,
   "metadata": {},
   "outputs": [
    {
     "data": {
      "text/plain": [
       "COUNTRY_ISO_3\n",
       "GHA      5\n",
       "MEX     10\n",
       "IDN     10\n",
       "COL     10\n",
       "TZA     10\n",
       "      ... \n",
       "PSE     76\n",
       "PLW     78\n",
       "LIE     87\n",
       "MCO     88\n",
       "XKX    138\n",
       "Length: 195, dtype: int64"
      ]
     },
     "execution_count": 7,
     "metadata": {},
     "output_type": "execute_result"
    }
   ],
=======
   "execution_count": null,
   "metadata": {},
   "outputs": [],
   "source": [
    "my_comparer.df_2"
   ]
  },
  {
   "cell_type": "code",
   "execution_count": null,
   "metadata": {},
   "outputs": [],
>>>>>>> main
   "source": [
    "# Number of NAN countries per indicator\n",
    "my_comparer.get_number_of_NA_per_column_value(\n",
    "    my_comparer.df_2,\n",
    "    column_for_per_category=\"COUNTRY_ISO_3\"\n",
    ")"
   ]
  },
  {
   "attachments": {},
   "cell_type": "markdown",
   "metadata": {},
   "source": [
    "## 2.3 Numberer of indicators per category"
   ]
  },
  {
   "cell_type": "code",
<<<<<<< HEAD
   "execution_count": 8,
=======
   "execution_count": null,
>>>>>>> main
   "metadata": {},
   "outputs": [
    {
     "name": "stdout",
     "output_type": "stream",
     "text": [
      "\n",
      " \n",
      " This is the number of indicators per INDICATOR_INDEX\n",
      "INDICATOR_INDEX\n",
      "WP    78\n",
      "CE    72\n",
      "MP    56\n",
      "dtype: int64\n",
      "\n",
      " \n",
      " This is the number of indicators per INDICATOR_CATEGORY\n",
      "INDICATOR_CATEGORY\n",
      "LEG_FRAMEWORK_NAT         62\n",
      "OUTCOME                   52\n",
      "ENFORCEMENT               49\n",
      "LEG_FRAMEWORK_INTERNAT    43\n",
      "dtype: int64\n",
      "\n",
      " \n",
      " This is the number of indicators per INDICATOR_ISSUE\n",
      "INDICATOR_ISSUE\n",
      "DECENT_WORK_COND        33\n",
      "MARKETING_ADV           25\n",
      "CHLD_LABOUR             24\n",
      "RESOURCE_ENV_DAMAGE     22\n",
      "MAT_PAT_PROT            21\n",
      "ONLINE_ABUSE_EXPL       19\n",
      "SECURITY_ARRANGMENTS    17\n",
      "CH_RIGHTS_FULLF         13\n",
      "PROD_SAFETY             12\n",
      "NAT_DISASTERS           11\n",
      "LAND_RIGHTS              9\n",
      "dtype: int64\n",
      "\n",
      " \n",
      " Lastly, this is the numer of indicators per all three of those categories\n",
      "INDICATOR_INDEX  INDICATOR_CATEGORY      INDICATOR_ISSUE     \n",
      "MP               LEG_FRAMEWORK_NAT       MARKETING_ADV           13\n",
      "WP               LEG_FRAMEWORK_INTERNAT  DECENT_WORK_COND        11\n",
      "                 LEG_FRAMEWORK_NAT       DECENT_WORK_COND         9\n",
      "CE               LEG_FRAMEWORK_NAT       RESOURCE_ENV_DAMAGE      8\n",
      "                 LEG_FRAMEWORK_INTERNAT  SECURITY_ARRANGMENTS     7\n",
      "WP               ENFORCEMENT             DECENT_WORK_COND         7\n",
      "CE               OUTCOME                 NAT_DISASTERS            7\n",
      "WP               LEG_FRAMEWORK_NAT       MAT_PAT_PROT             7\n",
      "MP               LEG_FRAMEWORK_NAT       ONLINE_ABUSE_EXPL        7\n",
      "WP               LEG_FRAMEWORK_INTERNAT  CHLD_LABOUR              7\n",
      "MP               OUTCOME                 MARKETING_ADV            6\n",
      "                 ENFORCEMENT             ONLINE_ABUSE_EXPL        6\n",
      "WP               ENFORCEMENT             MAT_PAT_PROT             6\n",
      "                 LEG_FRAMEWORK_NAT       CHLD_LABOUR              6\n",
      "                 OUTCOME                 CHLD_LABOUR              6\n",
      "                                         DECENT_WORK_COND         6\n",
      "                 ENFORCEMENT             CHLD_LABOUR              5\n",
      "MP               ENFORCEMENT             MARKETING_ADV            5\n",
      "CE               ENFORCEMENT             CH_RIGHTS_FULLF          5\n",
      "WP               OUTCOME                 MAT_PAT_PROT             5\n",
      "CE               OUTCOME                 RESOURCE_ENV_DAMAGE      5\n",
      "                 LEG_FRAMEWORK_INTERNAT  RESOURCE_ENV_DAMAGE      5\n",
      "                 OUTCOME                 CH_RIGHTS_FULLF          5\n",
      "MP               ENFORCEMENT             PROD_SAFETY              4\n",
      "CE               ENFORCEMENT             RESOURCE_ENV_DAMAGE      4\n",
      "MP               LEG_FRAMEWORK_NAT       PROD_SAFETY              4\n",
      "CE               LEG_FRAMEWORK_NAT       SECURITY_ARRANGMENTS     4\n",
      "MP               OUTCOME                 ONLINE_ABUSE_EXPL        4\n",
      "CE               ENFORCEMENT             SECURITY_ARRANGMENTS     3\n",
      "                 LEG_FRAMEWORK_INTERNAT  LAND_RIGHTS              3\n",
      "WP               LEG_FRAMEWORK_INTERNAT  MAT_PAT_PROT             3\n",
      "CE               OUTCOME                 SECURITY_ARRANGMENTS     3\n",
      "MP               OUTCOME                 PROD_SAFETY              3\n",
      "CE               LEG_FRAMEWORK_NAT       LAND_RIGHTS              2\n",
      "                 OUTCOME                 LAND_RIGHTS              2\n",
      "MP               LEG_FRAMEWORK_INTERNAT  ONLINE_ABUSE_EXPL        2\n",
      "CE               LEG_FRAMEWORK_INTERNAT  CH_RIGHTS_FULLF          2\n",
      "                 ENFORCEMENT             LAND_RIGHTS              2\n",
      "                                         NAT_DISASTERS            2\n",
      "                 LEG_FRAMEWORK_NAT       CH_RIGHTS_FULLF          1\n",
      "                 LEG_FRAMEWORK_INTERNAT  NAT_DISASTERS            1\n",
      "MP               LEG_FRAMEWORK_INTERNAT  PROD_SAFETY              1\n",
      "                                         MARKETING_ADV            1\n",
      "CE               LEG_FRAMEWORK_NAT       NAT_DISASTERS            1\n",
      "dtype: int64\n"
     ]
    }
   ],
   "source": [
    "my_comparer.get_number_of_indicators_per_column(\n",
    "    df = my_comparer.df_1\n",
    ")"
   ]
  },
  {
   "cell_type": "code",
   "execution_count": null,
   "metadata": {},
   "outputs": [],
   "source": [
    "my_comparer.get_number_of_indicators_per_column(\n",
    "    df = my_comparer.df_2\n",
    ")"
   ]
  },
  {
   "attachments": {},
   "cell_type": "markdown",
   "metadata": {},
   "source": [
    "## 2.4 Top and bottom 5 countries overall"
   ]
  },
  {
   "cell_type": "code",
   "execution_count": null,
   "metadata": {},
   "outputs": [],
   "source": [
    "my_comparer.get_top_and_worst_countries_per_category(\"OVERALL\")"
   ]
  },
  {
   "cell_type": "code",
   "execution_count": null,
   "metadata": {},
   "outputs": [],
   "source": [
    "my_comparer.get_top_and_worst_countries_per_category(\"INDEX\")"
   ]
  },
  {
   "attachments": {},
   "cell_type": "markdown",
   "metadata": {},
   "source": [
    "# 3. Comparison of files of 2023 and 2020\n",
    "\n",
    "1. Comparison of existing olumns\n",
    "2. Compare distributions of `TIME_PERIOD` \n",
    "3. Compare distribution of scores\n",
    "    5.1 Overall score\n",
    "    5.2 Score per INDEX\n",
    "4. Which country has improved/ worsened most? \n",
    "5. For which observations has `TIME_PERIOD` become older?\n",
    "6. Which indicators have been retired/ added between 2020 and 2023?\n",
    "7. Percentage of observations for which we have new data\n",
    "8. Distribution of rank change\n",
    "\n",
    "(SKIPPED Run the same health checks (i.e. Indonesia > Canada) as before)"
   ]
  },
  {
   "attachments": {},
   "cell_type": "markdown",
   "metadata": {},
   "source": [
    "## 3.1 Comparison of existing column"
   ]
  },
  {
   "cell_type": "code",
<<<<<<< HEAD
   "execution_count": 9,
   "metadata": {},
   "outputs": [
    {
     "name": "stdout",
     "output_type": "stream",
     "text": [
      "Columns that are in df_1 which aren_t in df_2 {'DIM_MANAGEMENT_LEVEL', 'DATAFLOW'}\n",
      "Columns that are in df_2 which aren_t in df_1 {'ATTR_INDICATOR_DESCRIPTION', 'SOURCE_ID', 'ATTR_SDG_INDICATOR_DESCRIPTION', 'ATTR_DATA_EXTRACTION_METHDOLOGY', 'ATTR_SOURCE_TITLE', 'ATTR_INDICATOR_EXPLANATION', 'COUNTRY_NAME', 'ATTR_FOOTNOTE_OF_SOURCE', 'DIM_REP_TYPE', 'ATTR_SOURCE_OF_SOURCE', '_merge', 'COUNTRY_ISO_2'}\n"
     ]
    }
   ],
=======
   "execution_count": null,
   "metadata": {},
   "outputs": [],
>>>>>>> main
   "source": [
    "my_comparer.compare_existing_columns()"
   ]
  },
  {
   "attachments": {},
   "cell_type": "markdown",
   "metadata": {},
   "source": [
    "## 3.2. Comparison of distributions of TIME_PERIOD"
   ]
  },
  {
   "cell_type": "code",
   "execution_count": null,
   "metadata": {},
   "outputs": [],
   "source": [
    "my_comparer.compare_column_distribution(\"TIME_PERIOD\")"
   ]
  },
  {
   "attachments": {},
   "cell_type": "markdown",
   "metadata": {},
   "source": [
    "## 3.3 Comparison of distributions of scores\n",
    "### 3.3.1 OVERALL SCORE"
   ]
  },
  {
   "cell_type": "code",
   "execution_count": null,
   "metadata": {},
   "outputs": [],
   "source": [
    "my_comparer.compare_column_distribution(\"SCALED_OBS_VALUE\")"
   ]
  },
  {
   "cell_type": "code",
<<<<<<< HEAD
   "execution_count": 14,
   "metadata": {},
   "outputs": [
    {
     "name": "stdout",
     "output_type": "stream",
     "text": [
      "5.872051934586483\n",
      "6.027992605809166\n"
     ]
    },
    {
     "data": {
      "image/png": "iVBORw0KGgoAAAANSUhEUgAABKAAAAJICAYAAABWnpxpAAAAOXRFWHRTb2Z0d2FyZQBNYXRwbG90bGliIHZlcnNpb24zLjcuMSwgaHR0cHM6Ly9tYXRwbG90bGliLm9yZy/bCgiHAAAACXBIWXMAAA9hAAAPYQGoP6dpAACUz0lEQVR4nOzdeXxU9fX/8fedLTMJEEhkq6ggIBSUsIWlCkW+LrRWBdFqFbSCC1prxQVUcEEFERSp+q2KgCuuPy1u3xa11lpbBUGtVAFRVpU9JCyZfe7vjzBDJstkZpKbyfJ6Ph48Qu69595z7/3MzM2Zz/1cwzRNUwAAAAAAAIBFbJlOAAAAAAAAAE0bBSgAAAAAAABYigIUAAAAAAAALEUBCgAAAAAAAJaiAAUAAAAAAABLUYACAAAAAACApShAAQAAAAAAwFIUoAAAAAAAAGApClAAAKBRM00z0yk0iBwAAAAaMgpQAADAMuPHj1ePHj1i/3r27Kl+/frpnHPO0TPPPKNQKBS3/MiRI3XzzTcnvf6//e1vmjp1ao3L3XzzzRo5cmTa26nOvn37NGXKFK1cuTI2bfz48Ro/fnyt152K1atX66abbtKIESPUp08fnXLKKbrtttu0devWes3DSg8//LB69OiR6TQAAECaHJlOAAAANG29evXSHXfcIUkKh8MqKSnRhx9+qHvvvVcrV67U/PnzZbOVfSf2yCOPqEWLFkmv+6mnnkpquauvvloXX3xxyrnXZM2aNXr99dc1duzY2LTovtaXJUuWaNasWRo8eLBuuOEGtWvXTps3b9aiRYv0zjvv6Omnn1bPnj3rNScrnHfeeRo2bFim0wAAAGmiAAUAACzVokUL9e3bN27ayJEjdeyxx2rmzJl66623dNZZZ0kqK1ZZ4eijj7ZkvVXp1q1bvW1r1apVmjlzpi666CJNmzYtNn3w4ME65ZRTNHr0aN1666167bXX6i0nq3To0EEdOnTIdBoAACBN3IIHAAAyYty4cWrfvr1efPHF2LSKt8ZFi1N9+vTRkCFDdOONN2rHjh2Sym51W7FihVasWKEePXpo+fLlWr58uXr06KEXX3xRJ598svr3769//etflW7Bk6RgMKh77rlHhYWFGjhwoKZOnaqioqLY/KpupYuuP7qtaK+qiy++OLZsxTi/36///d//1ahRo3TCCSfotNNO04IFCxSJROK2NW3aNC1YsEAjRozQCSecoAsuuEBffvllwmO4aNEitWzZUtdff32leXl5ebr55pv1P//zPyotLZVU1gNtyZIlOvPMM9WnTx+NGDFC999/v/x+fyzu5ptv1sSJE/XSSy/plFNOUZ8+fXTBBRdo48aN+vvf/64zzzxTBQUFOu+887RmzZq4uPHjx+v//b//p5NPPln9+vXTJZdcorVr18bl9emnn2rixIkqLCzU8ccfr5EjR+rhhx+OHY/vv/9ePXr00JNPPqlRo0apoKBAr776aqVb8LZs2aJJkyZp8ODBKigo0Pnnn69//OMfcdtavXq1Jk6cqMGDB6t///6aNGmS1q9fX+l8fvzxx5owYYIKCgp04oknau7cuQqHwwmPPQAASA0FKAAAkBE2m01Dhw7Vl19+WWksKKmsd8+UKVN02mmn6YknntAtt9yiTz75RDfccIOkslvdevXqpV69eumll15S7969Y7GPPPKIpk6dqttvv139+vWrcvt/+ctf9NVXX2n27NmaOnWqPvjgA11++eVJFx569+6t22+/XZJ0++23V3nrnWmamjRpkhYuXKjzzjtPjz32mEaNGqX58+dXWn7ZsmX629/+punTp2vevHnavXu3fv/731ebj2ma+uijjzR06FB5PJ4ql/nlL3+p3/3ud8rOzo7lee+99+qUU07Ro48+qosuukjPPfecrr766riB1D///HM999xzuvnmm3Xvvffqu+++0xVXXKF7771XV155pebNm6dt27bpxhtvjNvemjVr9OCDD+qaa67R3LlztXfvXo0bN047d+6UJK1du1a//e1v1bp1az344IN69NFHNXDgQD3yyCP6y1/+Ereuhx9+WJdffrnmzJmjE088MW5eJBLRlVdeKa/Xqzlz5uhPf/qTWrdurauuukqbN2+WJH3yySf6zW9+I0maNWuW7rnnHm3btk0XXHCBvvvuu7j13XjjjRowYIAee+wx/epXv9LChQv1yiuvVHlMAQBAergFDwAAZMwRRxyhYDCo4uJiHXHEEXHzVq1aJbfbrSuuuEIul0uS1Lp1a61evVqmaapbt26x8aIq3uJ34YUXatSoUQm33aZNGy1atChWnGnTpo1+97vf6cMPP9TJJ59cY+4tWrSI3W7XrVu3Km+9+/DDD/Xvf/9b8+bN0xlnnCFJOvHEE+V2u/XHP/5RF198sbp37y5JCoVCWrRoUWyfDh48qKlTp2rNmjU6/vjjK61779698vv96tSpU425StK3336r//f//p9uuOEGXXHFFbFc2rVrpylTpujDDz/Uz3/+89i258+fr65du0qSVqxYoRdffFFPPfWUhg4dKknavHmz7rvvPu3bt0+tWrWSJO3fv1+PPfaYBg4cKEmxAdGfeeYZ3XjjjVq7dq1+9rOfae7cubFxv0488US9//77Wr58eewYSdIvfvGLuLG1ytuzZ482bNigq6++OpZznz599MgjjygQCEiSHnjgAR1zzDFasGCB7Ha7JOmkk07Sqaeeqoceekh//OMfY+s777zz9Lvf/U6SNHToUL333nv64IMPdMEFFyR1bAEAQM3oAQUAADIm2uvGMIxK8woLC+X1evWrX/1KDzzwgFauXKmTTjpJ11xzTZXLl/fTn/60xm3//Oc/jxWfpLLb/xwOhz799NMU96J6K1askMPhqFQMi455tWLFiti08gU1SWrfvr0kyev1VrnuaFEl2R5b0W2VL/JEf7fb7Vq+fHlsWm5ubqz4JClWHCwoKIhNa926taSyJwFGderUKVZ8kqR27dqpX79+sWM6evRoPfHEEwoGg1q7dq2WLVumhx56SOFwWMFgMC6vROfwiCOOULdu3XTbbbdp6tSpevPNNxWJRHTLLbeoe/fuKi0t1erVq/WLX/widpwkqVWrVjr55JPjjrukSr3kOnToELttEQAA1A0KUAAAIGN27Nght9sdK2aU169fPy1YsEBHHXWUnnzySV100UUaPny4nn322RrXW76wVJ22bdvG/W6z2dSmTZu4gkptlZSUqE2bNnFFkPLb3r9/f2xaxdvooj2Eyo8VVV5ubq5ycnL0448/Vrv90tJSlZSUxHIpv+0oh8OhNm3axOVS3ZMIazqu0aJZefn5+SouLpYk+Xw+TZs2TQMGDNDo0aM1d+5c/fDDD3I4HHG3ANa0LcMwtHjxYo0ePVofffSRbrzxRp144om67rrrVFJSov3798s0zUq96qSy4lX5fZUkt9sd97vNZquUDwAAqB0KUAAAICNCoZCWL1+u/v37VyrQRA0bNkyLFi3Sp59+qscee0zHHXec7rnnnhoH505GtCgSFQ6HtXfvXuXn58dNKy/VXjG5ubnau3dvpfVEx0Rq06ZNSuur6KSTTtLy5cvjBhEv7+WXX9aQIUP01VdfKTc3V5K0a9euuGWCwaD27t1b61ykstsCK9q9e3fsmM6cOVPLli3T/Pnz9dlnn+m9997T3Llz5XCkPipE+/btdeedd+qjjz7S0qVLNXHiRL3zzjuaP3++WrZsKcMwtHv37kpxu3btqrLgCQAArEUBCgAAZMRLL72kXbt2xQaKrui+++7T2LFjZZqmPB6PTj75ZE2dOlWSYr1+or2E0vGvf/0rbvDzZcuWKRQKafDgwZLKegFt3749LmbVqlVxv1dXOIsaNGiQQqGQ/vrXv8ZNf+ONNyRJAwYMSDt/SZowYYKKi4s1f/78SvN27dqlxYsXq1u3burdu7cGDRokSXr77bfjlnv77bcVDodrnYskbdq0KW6A7x07dujzzz+PjRu1atUqDR48WKecckqsh9N///tfFRUVVdvTqyqff/65fvazn+nLL7+UYRj66U9/qsmTJ+u4447Tjz/+qOzsbB1//PH6y1/+Elf8279/vz744IM62VcAAJAaBiEHAACWOnDggL744gtJZbeT7d27Vx999JFeeuklnXXWWTrttNOqjBsyZIiefPJJ3XzzzTrrrLMUDAa1cOFCtW7dWkOGDJFUNqbP559/ro8//li9evVKKa9du3bp97//vcaPH69NmzZp3rx5OvHEE2PFkpNPPlnvv/++7r33Xo0cOVIrV67U0qVL49bRsmVLSdIHH3yg3Nxc9ezZM27+8OHDNXjwYE2fPl07duxQz549tWLFCj3xxBMaM2ZMlQOXp6Jv3776wx/+oPnz5+u7777T6NGj1aZNG61fv16LFi2S3++PFae6deumMWPG6KGHHpLX61VhYaHWrFmjRx55RIMHD9awYcNqlYt0+Kl/kydPlt1u1yOPPKLc3FyNHz9eUtlA4X/5y1/0wgsvqGvXrlq7dq0effRRGYZR7VhXVenVq5fcbremTJmi3//+9zriiCP073//W2vWrNHFF18sSbrhhhs0ceJEXXHFFbrwwgsVDAa1YMECBQKB2IDjAACg/lCAAgAAlvr66691/vnnSyobuycnJ0fHHXec7rzzTp133nnVxv385z/X/fffr8WLF8cGHh8wYICeeeaZ2C1UF110kf773//q8ssv17333qt27dolndeFF16o/fv363e/+51cLpfOPPNM3XTTTbEBzseOHastW7boz3/+s1588UUVFhbqoYceiuux1b17d/3qV7/SkiVL9M9//lNvvfVW3DYMw9Djjz+uhx56SE899ZSKiorUqVMnXX/99br00kuTzjWRq666Sr169dKSJUs0a9YslZSUqGPHjhoxYoQmTZqkjh07xpadOXOmjjnmGL366qt64okn1K5dO1188cW6+uqra9WbLOonP/mJJkyYoFmzZsnr9epnP/uZHn300dj5uvnmmxUMBjV//nwFAgF16tRJV111lb799lu9//77SQ+onpWVpcWLF+uBBx7QzJkztW/fPnXu3Fl33XWXzjnnHEllT7N78skn9dBDD+n666+Xy+XSwIEDdd9998WePAgAAOqPYTLCIgAAAGrp5ptv1ooVK/T+++9nOhUAANAAMQYUAAAAAAAALEUBCgAAAAAAAJbiFjwAAAAAAABYih5QAAAAAAAAsBQFKAAAAAAAAFiKAhQAAAAAAAAs5ch0Ao3R559/LtM05XQ6M50KAAAAAABARgSDQRmGoX79+tW4LD2g0mCaphry2O2maSoQCDToHNH00O6QCbQ7ZALtDplAu0Mm0O6QCbS7xiWV+gg9oNIQ7fl0wgknZDiTqpWWlmrNmjXq1q2bsrOzM50OmgnaHTKBdodMoN0hE2h3yATaHTKBdte4rF69Oull6QEFAAAAAAAAS1GAAgAAAAAAgKUoQAEAAAAAAMBSFKAAAAAAAABgKQpQAAAAAAAAsBRPwQMAAAAAAEkLh8MKBoOWrNvv98d+2mz0mckkp9Mpu91eZ+ujAAUAAAAAAGpkmqa2b9+u4uJiy7YRiUTkcDj0448/UoBqAFq3bq0OHTrIMIxar4sCFAAAAAAAqFG0+NSuXTtlZ2fXSVGionA4LL/fr6ysrDrtfYPUmKap0tJS7dy5U5LUsWPHWq+TAhQAAAAAAEgoHA7Hik/5+fmWbkeS3G43BagM83g8kqSdO3eqXbt2tT4f9GcDAAAAAAAJRcd8ys7OznAmqE/R810XY35RgAIAAAAAAEmx4rY7NFx1eb4pQAEAAAAAgAaDIlfTRAEKAAAAAACkLWKadbYuu92u7OzspMcbSnfboVBITz/9tM455xz169dPQ4YM0YQJE/TJJ5/UGDty5Eg9/PDDaW03kVdffVVnnnmm+vbtq9NOO00LFiyIjYklSXv37tUNN9ygwsJCDRo0SDNmzJDX643Nj0QiWrhwoU4//XT17dtXZ5xxhl555ZW4bXz//fe68sor1b9/f5100kmaP39+3DasxCDkAAAAAAAgbTbD0AefbdWB0tqPExSJRBQOh2W322WzJe4z0yLbqRH9j0p5G36/X5deeqm2bduma6+9Vv369ZPP59Orr76qSy+9VHPmzNGZZ56Z7i6k5Y033tAdd9yh2267TUOHDtV///tf3XbbbQoEArrmmmskSddee628Xq+eeuop7du3T9OmTVNpaanuu+8+SdLjjz+uxYsXa8aMGTr++OP18ccf684775TT6dTo0aMVDAY1ceJEde7cWS+++KK2bNmiadOmyWaz6dprr7V8HylAAQAAAACAWjlQGtS+g4FarycSiSgUCsnhcNRYgErXH//4R61bt05vvfWWOnbsGJs+bdo0HThwQPfcc49GjhypnJwcS7ZflRdeeEGjR4/W+eefL0k6+uijtXHjRr3yyiu65ppr9Pnnn2vFihX6v//7P3Xt2lWSdNddd+myyy7T9ddfr/bt2+uFF17QhAkT9Mtf/jK2jv/85z965ZVXNHr0aC1btkw//vijXn75ZeXm5uq4447Tnj17NGfOHE2aNEkul8vSfeQWPAAAAAAA0CwEg0G9+uqrOuecc+KKT1HXXXednnjiCbndbklSjx499NBDD+nkk0/WSSedpE2bNkmSdu3apcsuu0wnnHCCRo4cqSVLlsSt55VXXtGZZ56pPn36qG/fvrrwwgu1evXqavO68cYbNXHixLhpNptNJSUlkqSVK1eqbdu2seKTJA0aNEiGYWjVqlWKRCK67777NGbMmErr2LdvX2wdvXv3Vm5ubmz+kCFDdODAAa1Zs6amQ1drFKAAAAAAAECzsHXrVhUXF6t///5Vzm/fvr369OkTNwbV888/r4ceekiPPPKIOnfuLEl6+eWXNXDgQL3xxhu69NJLNXPmTL377ruSpHfffTfWO+kvf/mLnnrqKfn9fk2fPr3avAYMGKAuXbrEft+/f79eeOEFDRs2TJK0Y8eOSgUzl8ul1q1ba9u2bbLZbBo6dKg6dOgQm//jjz/q7bff1kknnSRJ2r59e9x8SWrXrp0kadu2bQmPW13gFjwAAAAAANAsRHsUle8FVJOzzz5bJ5xwQty0U045RZMmTZIkdenSRV988YUWL16sU089Va1bt9bMmTN11llnSZKOPPJInXvuubrrrruS2t7Bgwd19dVXy+/3a8qUKZIkr9db5S1yWVlZ8vv9labv3r1bl19+ufLz83XVVVdJknw+n1q1alUpXlKV66hrFKAAAAAAAECzkJeXJ0kqLi5OOuaYY46pNG3AgAFxvxcUFOgf//iHJKmwsFDfffed/vd//1cbNmzQ5s2btW7dOkUikRq3tWvXLl155ZX6/vvvtWjRInXq1EmS5Ha7FQhUHmPL7/crOzs7btqGDRt0xRVXKBwO65lnnokVnapaR7TwVHEdVuAWPAAAAAAA0CwcddRROuKII/TZZ59VOf+7777ThAkTtH79+ti06HhQ5VUcID0SicR6KL355ps666yztHXrVvXv319Tp07VzTffXGNu3333nX79619rz549WrJkSVyvqw4dOmjnzp1xywcCARUXF8duo5OkVatW6YILLpDH49GLL76oo446KuE6or+3b9++xvxqiwIUAAAAAABoFmw2m84991y99tprVY57tHDhQq1evVpHHnlkwvV89dVXcb+vWrVK3bt3lyQtWLBA5557rmbPnq2LLrpIhYWF2rp1qyTJNM0q17d161ZdcsklscJRdF1RhYWF2r59uzZv3hybtmLFCkmHe2N9+eWXuuyyy9S9e3ctWbKkUlGpsLBQX3/9tQ4cOBCb9sknnygnJ0c9e/ZMuL91gQIUAAAAAABoNiZNmqTOnTvrwgsv1NKlS7VlyxZ9+eWXuuWWW7R06VLdfffdNd6S9vbbb2vx4sXasGGDFixYoHfffVdXX321JKljx4767LPP9NVXX2nLli166qmn9Nxzz0lSlbfRSdKtt96qQCCgefPmyeFwaNeuXbF/Utktfv3799fkyZP15Zdf6pNPPtHtt9+u0aNHq3379gqFQrrxxhuVn5+v2bNny+/3x+KLiooklY1b1bZtW1133XVau3at3nvvPc2bN08TJkyocnypusYYUAAAAKh3ZiQiw5b6d6HpxgEArNUi21kn64lEIgqH7bLb7ZVuc6urbXo8Hj333HNavHixnnjiCf34449yu93q1auXnn32WQ0cOLDGdUycOFF///vfNW/ePB155JF64IEHNHjwYEnSbbfdpttvv13jxo2Ty+VSz549NWfOHE2ePFmrV6+utP4dO3bEejOdffbZlba1bt06GYahRx55RDNmzNAll1yirKwsjRo1Srfccoukst5P0d5Rp5xySlz8kUceqffff19ZWVlauHChZsyYoV//+tfKzc3VhRdeGCucWc0wq+v/hWqtXr1akiqNgt9QlJaWas2aNfrpT39aLwOJARLtDplBu0Mm0O7qTsmqZYoEfUkvb3O6lTvgdAszarhod8gE2h3K8/l82rhxo7p06VJpTKSIacpmGBnJK5Pbbg4SnXcptfoIPaAAAACQEZGgT2Yg+QJUzc8OAgBkQl0WgMLhsPx+v7KysmS32+t127AW/ZcBAAAAAECDwY1aTRMFKAAAAAAAAFiKAhQAAAAAAAAsRQEKAAAAAAAAlqIABQAAAAAAAEtRgAIAAAAAAIClKEABAAAAAADAUhSgAAAAAAAAYCkKUAAAAAAAoMEwDCPTKcACFKAAAAAAAEDazEikztZlt9uVnZ0tu91u6bZDoZCefvppnXPOOerXr5+GDBmiCRMm6JNPPqkxduTIkXr44YfT2m4ir776qs4880z17dtXp512mhYsWKBwOBybv3fvXt1www0qLCzUoEGDNGPGDHm93tj8SCSihQsX6vTTT1ffvn11xhln6JVXXonbxr///W+dd955Kigo0PDhw3X//fcrEAjU+b5UxVEvWwEAAAAAAE2SYbOpZNUyRYK+Wq/LjEQUDoVld9hl2BL3mbE53codcHrK2/D7/br00ku1bds2XXvtterXr598Pp9effVVXXrppZozZ47OPPPMdHchLW+88YbuuOMO3XbbbRo6dKj++9//6rbbblMgENA111wjSbr22mvl9Xr11FNPad++fZo2bZpKS0t13333SZIef/xxLV68WDNmzNDxxx+vjz/+WHfeeaecTqdGjx6tdevW6corr9SECRP0wAMPaOvWrZo6daoCgYBuvfVWy/eRAhQAAAAAAKiVSNAnM1A3BahIKCRbxCHVUIBKt9/VH//4R61bt05vvfWWOnbsGJs+bdo0HThwQPfcc49GjhypnJycNLeQuhdeeEGjR4/W+eefL0k6+uijtXHjRr3yyiu65ppr9Pnnn2vFihX6v//7P3Xt2lWSdNddd+myyy7T9ddfr/bt2+uFF17QhAkT9Mtf/jK2jv/85z965ZVXNHr0aG3btk1jxozR5MmTY/N/+ctf6l//+le97CMFKAAAAAAA0CwEg0G9+uqrOuecc+KKT1HXXXedfvOb38jtdkuSevTood/97nf685//rGAwqOeee06StGvXLl122WVavny52rZtq4kTJ+qiiy6KreeVV17RM888o82bN8tms6lXr1665ZZbdMIJJ1SZ14033qi8vLy4aTabTSUlJZKklStXqm3btrHikyQNGjRIhmFo1apVGjVqlO677z516dKl0jr27dsnSRoxYoRGjBghSTJNU6tXr9Z7772nU045JZVDmDYKUAAAAAAAoFnYunWriouL1b9//yrnt2/fXu3bt4+b9vzzz+uJJ55QOBxW586dJUkvv/yyrrvuOk2bNk0fffSRZs6cqXbt2unUU0/Vu+++q7vuukv33HOPBg4cqF27dunuu+/W9OnT9frrr1e53QEDBsT9vn//fr3wwgsaNmyYJGnHjh2VCmYul0utW7fWtm3bZLPZNHTo0Lj5P/74o95++21dcMEFcdPD4bD69+8vn8+nXr16xW7xsxqDkAMAAAAAgGYh2qMoNzc36Zizzz5bJ5xwgvr27Rubdsopp2jSpEnq0qWLxo8fr1/84hdavHixJKl169aaOXOmzj77bB155JHq27evzj33XH3zzTdJbe/gwYO6+uqr5ff7NWXKFEmS1+uVy+WqtGxWVpb8fn+l6bt379bll1+u/Px8XXXVVXHzIpGInnvuOS1YsEClpaW6/PLLZZpmsocjbfSAAgAAAAAAzUL0Nrfi4uKkY4455phK0yr2WCooKNA//vEPSVJhYaG+++47/e///q82bNigzZs3a926dYok8cS+Xbt26corr9T333+vRYsWqVOnTpIkt9td5dPq/H6/srOz46Zt2LBBV1xxhcLhsJ555hm1atUqbr7T6YzdCtiqVStdcMEFWrlypQoLC2vMrzboAQUAAAAAAJqFo446SkcccYQ+++yzKud/9913mjBhgtavXx+bFh0PqjxbhQHSI5FIrIfSm2++qbPOOktbt25V//79NXXqVN1888015vbdd9/p17/+tfbs2aMlS5bEjRfVoUMH7dy5M275QCCg4uJitWvXLjZt1apVuuCCC+TxePTiiy/qqKOOis37+uuv9cknn8Sto0ePHpLKbvGzGgUoAAAAAADQLNhsNp177rl67bXXtG3btkrzFy5cqNWrV+vII49MuJ6vvvoq7vdVq1ape/fukqQFCxbo3HPP1ezZs3XRRRepsLBQW7dulaRqb3XbunWrLrnkkljhKLquqMLCQm3fvl2bN2+OTVuxYoWkw72xvvzyS1122WXq3r27lixZUmksqzfffFM333yzQqFQbNp//vMfSVK3bt0S7m9doAAFAAAAAACajUmTJqlz58668MILtXTpUm3ZskVffvmlbrnlFi1dulR33313pdvaKnr77be1ePFibdiwQQsWLNC7776rq6++WpLUsWNHffbZZ/rqq6+0ZcsWPfXUU7Gn51V1G50k3XrrrQoEApo3b54cDod27doV+yeV3eLXv39/TZ48WV9++aU++eQT3X777Ro9erTat2+vUCikG2+8Ufn5+Zo9e7b8fn8svqioSJL0m9/8RiUlJbr99tu1ceNG/fOf/9S0adN0+umnq2fPnnV1eKvFGFAAAAAAAKBWbE63ah7hKAmRiGy2sAyHXYYtcZ8Zm7PyrXHJ8Hg8eu6557R48WI98cQT+vHHH+V2u9WrVy89++yzGjhwYI3rmDhxov7+979r3rx5OvLII/XAAw9o8ODBkqTbbrtNt99+u8aNGyeXy6WePXtqzpw5mjx5slavXl1p/Tt27Ij1Zjr77LMrbWvdunUyDEOPPPKIZsyYoUsuuURZWVkaNWqUbrnlFkllvZ+ivaNOOeWUuPgjjzxS77//vo4++mg9/fTTmjt3rs455xzl5OTozDPP1OTJk1M/iGmgAAUAAAAAANJmRiLKHXB6xrZdU6GqKtnZ2brmmmt0zTXXJFxu3bp1laa9//77CWOOOuooPfnkk5Wm//KXv6xy+fbt21e5nYry8/P10EMPVTmvf//+Sa2jT58+evbZZ2tczgoZvwWvuLhYt99+u4YPH67+/fvrN7/5jVauXBmb//HHH+ucc85RQUGBRo0apbfffjsu3u/3a8aMGRo6dKj69eunG264Ida9LNl1AAAAAACA9KRTAKpOOBxWaWmpwuFwvW8b1sr4mbr++uv1+eefa968eXr11Vf105/+VBMnTtSGDRv03Xff6corr9SwYcP02muv6bzzztOUKVP08ccfx+LvvPNOffTRR3r44Yf19NNPa8OGDbr22mtj85NZBwAAAAAAaBiqG6gbjVtGb8HbvHmz/vWvf+n555+Pjdp+22236Z///KfefPNN7dmzRz169Ijdj9i1a1d9/fXXWrhwoYYOHaodO3Zo6dKleuyxx2L3UM6bN0+jRo3S559/rn79+unpp59OuA4AAAAAAABYK6M9oNq0aaMFCxbohBNOiE0zDEOGYWjfvn1auXJlpSLRkCFDtGrVKpmmqVWrVsWmRXXp0kXt27fXp59+Kkk1rgMAAAAAAADWymgPqFatWunnP/953LRly5Zp8+bNuvXWW/XnP/9ZHTp0iJvfrl07eb1e7d27Vzt27FCbNm2UlZVVaZnt27dLkrZv355wHXl5eWnlbpqmSktL04q1mtfrjfsJ1AfaHTKBdodMoN3VjezsbIWCIUWCwaRjbEbZpWtDvQazEu0OmUC7Q3l+v1+RSEThcDjp8ZnSEe0oYpqmpdtBcsLhsCKRiLxeryKRys85NE1ThmEkta4G9RS8zz77TLfccotOO+00jRgxQj6fTy6XK26Z6O+BQEBer7fSfEnKysqS3++XpBrXka5gMKg1a9akHV8fNm3alOkU0AzR7pAJtDtkAu0ufQ6HQwUFBSras0ch38Hk49w5aitp/fr1CoVC1iXYgNHukAm0O0TZ7Xb5fL562Vb0b3pkls/nUzAY1IYNG6pdpqq6TFUaTAHqvffe04033qj+/fvr/vvvl1RWSKpYJIr+7vF45Ha7qywi+f1+eTyepNaRLqfTqW7duqUdbyWv16tNmzapc+fOtdpHIBW0O2QC7Q6ZQLurO3n5+YoEspNe3uYqO97du3e3KqUGi3aHTKDdobxwOKwtW7YoEonI7XZbth3TNOX3+5WVlZV0zxpYp7S0VE6nU127dpXdbq80/9tvv016XQ2iAPXcc89p5syZGjVqlO67775Y9axjx47auXNn3LI7d+5Udna2WrZsqQ4dOqi4uFiBQCCu4rZz5061b98+qXWkyzAMZWcnf8GUCR6Pp8HniKaHdodMoN0hE2h3tedwOmSazqSXN5xll67N+bjT7pAJtDtE5eXlaffu3bLZbMrOzrakQBQOh2O9n6oqeKB+RIcd2r17t/Ly8qqtn6TSBjJegHr++ed19913a/z48Zo2bVpc8gMHDtSKFSvilv/kk0/Uv39/2Ww2DRgwQJFIRKtWrYoNNL5x40bt2LFDhYWFSa0DAAAAAADULDq+csVOHnUpEokoFArJ4XDwN3sD0Lp160rjaqcrowWojRs3atasWTr11FN15ZVXavfu3bF5brdb48eP15gxY3T//fdrzJgx+sc//qG//vWvWrhwoSSpffv2OuOMMzR9+nTNmjVLHo9Hd9xxhwYNGqS+fftKUo3rAAAAAAAANTMMQx07dlS7du0UTOEhEqnwer3asGGDjj76aG79zDCn01mnvdAyWoBatmyZgsGg3n33Xb377rtx88aMGaPZs2frT3/6k+bOnaunn35anTp10ty5c2O9nSTp7rvv1qxZs3TNNddIkoYPH67p06fH5nfv3r3GdQAAAAAAgOTY7XbLbo+LPmktKyvL0rGmUP8yWoCaNGmSJk2alHCZ4cOHa/jw4dXOz87O1j333KN77rkn7XUAAAAAAADAOtxQCQAAAAAAAEtRgAIAAAAAAIClKEABAAAAAADAUhSgAAAAAAAAYCkKUAAAAAAAALAUBSgAAAAAAABYigIUAAAAAAAALEUBCgAAAAAAAJaiAAUAAAAAAABLUYACAAAAAACApShAAQAAAAAAwFIUoAAAAAAAAGApClAAAAAAAACwFAUoAAAAAAAAWIoCFAAAAAAAACxFAQoAAAAAAACWogAFAAAAAAAAS1GAAgAAAAAAgKUoQAEAAAAAAMBSFKAAAAAAAABgKQpQAAAAAAAAsBQFKAAAAAAAAFiKAhQAAAAAAAAsRQEKAAAAAAAAlqIABQAAAAAAAEtRgAIAAAAAAIClKEABAAAAAADAUhSgAAAAAAAAYCkKUAAAAAAAALAUBSgAAAAAAABYigIUAAAAAAAALEUBCgAAAAAAAJaiAAUAAAAAAABLUYACAAAAAACApShAAQAAAAAAwFIUoAAAAAAAAGApClAAAAAAAACwFAUoAAAAAAAAWIoCFAAAAAAAACxFAQoAAAAAAACWogAFAAAAAAAAS1GAAgAAAAAAgKUoQAEAAAAAAMBSDaoA9fjjj2v8+PGx38ePH68ePXpU+W/p0qWSpHA4rD59+lSa//DDD8fW8/333+vKK69U//79ddJJJ2n+/PkKh8P1vXsAAAAAAADNkiPTCUQtWbJE8+fP18CBA2PTHn74YQWDwdjvpmlq8uTJKikp0amnnipJ2rRpk/x+v15//XXl5+fHls3OzpYkBYNBTZw4UZ07d9aLL76oLVu2aNq0abLZbLr22mvrae8AAAAAAACar4wXoHbs2KE77rhDy5cvV+fOnePmtW7dOu735557Tl9++aVef/115eTkSJLWrVunFi1aqGfPnlWuf9myZfrxxx/18ssvKzc3V8cdd5z27NmjOXPmaNKkSXK5XFbsFgAAAAAAAA7J+C14X331lZxOp9544w0VFBRUu1xRUZHmz5+vq666Sscee2xs+rp169S1a9dq41auXKnevXsrNzc3Nm3IkCE6cOCA1qxZUzc7AQAAAAAAgGplvAfUyJEjNXLkyBqXe+KJJ+R2uzVx4sS46d98841CoZAmTpyotWvXqn379rrkkkt09tlnS5K2b9+uDh06xMW0a9dOkrRt27aERS8AAAAAAADUXsYLUMk4cOCAXn75ZV1zzTXKysqKm7d+/XpFIhFde+216tChg/7xj3/olltuUTAY1Lnnniufz6dWrVrFxUTX4ff7087JNE2VlpamHW8lr9cb9xOoD7Q7ZALtDplAu6sb2dnZCgVDipQb77MmNqPs0rWhXoNZiXZXO263WzZbejd/RCIR+Xy+Os6ocaDdIRNod42LaZoyDCOpZRtFAeq9995TIBDQ2LFjK8176623FA6HY2NC9ezZUz/++KMWLVqkc889V263W4FAIC4mWniKDlSejmAw2OBv4du0aVOmU0AzRLtDJtDukAm0u/Q5HA4VFBSoaM8ehXwHk49z56ityr6ADIVC1iXYgNHuUud2u9W7d2+99u5/VLw/tT9oW7f06JxTC7Rx48ZmW4SSaHfIDNpd45Hs2NqNpgD185//vFJPJqnsA6Wi4447Tm+88YYkqUOHDvrmm2/i5u/cuVOS1L59+7Rzcjqd6tatW9rxVvJ6vdq0aZM6d+4sj8eT6XTQTNDukAm0O2QC7a7u5OXnKxJI/gtBm6vseHfv3t2qlBos2l36ot/M25we2V2p9YKyOcvunDj22GNlmmad59bQ0e6QCbS7xuXbb79NetlGUYBauXKlfv/731eavm/fPp1yyim6+eabdc4558Smr169OnZhUlhYqKVLl+rAgQNq0aKFJOmTTz5RTk5OtU/OS4ZhGLXqQVUfPB5Pg88RTQ/tDplAu0Mm0O5qz+F0yDSdSS9vOMsuXZvzcafdpc/hcMjpjKQcI6nZ/xFMu0Mm0O4ah2Rvv5MawFPwarJt2zbt3bu3ymJRq1atNGTIED344IP6xz/+oU2bNmnBggV64403YgWrU045RW3bttV1112ntWvX6r333tO8efM0YcKEpLuJAQAAAAAAIH0NvgfUrl27JEmtW7eucv6sWbP08MMP64477tCePXvUtWtXPfTQQxo2bJiksgHHFy5cqBkzZujXv/61cnNzdeGFF+rqq6+ur10AAAAAAABo1hpUAWr27NmVpvXp00fr1q2rNqZFixa65ZZbdMstt1S7zDHHHKPFixfXSY4AAAAAAABITYO/BQ8AAAAAAACNGwUoAAAAAAAAWIoCFAAAAAAAACxFAQoAAAAAAACWogAFAAAAAAAAS1GAAgAAAAAAgKUoQAEAAAAAAMBSFKAAAAAAAABgKQpQAAAAAAAAsBQFKAAAAAAAAFiKAhQAAAAAAAAsRQEKAAAAAAAAlqIABQAAAAAAAEtRgAIAAAAAAIClKEABAAAAAADAUhSgAAAAAAAAYCkKUAAAAAAAALAUBSgAAAAAAABYigIUAAAAAAAALEUBCgAAAAAAAJaiAAUAAAAAAABLUYACAAAAAACApShAAQAAAAAAwFIUoAAAAAAAAGApClAAAAAAAACwFAUoAAAAAAAAWIoCFAAAAAAAACxFAQoAAAAAAACWogAFAAAAAAAAS1GAAgAAAAAAgKUoQAEAAAAAAMBSFKAAAAAAAABgKQpQAAAAAAAAsBQFKAAAAAAAAFiKAhQAAAAAAAAsRQEKAAAAAAAAlqIABQAAAAAAAEtRgAIAAAAAAIClKEABAABAkhQxzYzEAgCAps+R6QQAAADQMNgMQx98tlUHSoMpxbXIdmpE/6MsygoAADQFFKAAAAAQc6A0qH0HA5lOAwAANDHcggcAAAAAAABLUYACAAAAAACApShAAQAAAAAAwFINqgD1+OOPa/z48XHTpk+frh49esT9GzlyZGx+JBLRQw89pGHDhqlv3766/PLLtXXr1rh1rFmzRuPGjVPfvn01cuRIPfPMM/WyPwAAAADK8JRFAGjeGswg5EuWLNH8+fM1cODAuOnr1q3TpEmTNG7cuNg0u90e+/+f/vQnPf/885o9e7Y6dOiguXPn6rLLLtObb74pl8ulvXv36tJLL9XIkSM1Y8YMffHFF5oxY4ZycnI0duzYets/AAAAoDnjKYsA0LxlvAC1Y8cO3XHHHVq+fLk6d+4cN880TX377be64oor1LZt20qxgUBAixcv1o033qgRI0ZIkh588EENGzZM77zzjn71q1/p5ZdfltPp1F133SWHw6GuXbtq8+bNWrBgAQUoAAAAoB7xlEUAaL4yfgveV199JafTqTfeeEMFBQVx87Zs2aLS0lIde+yxVcauXbtWBw8e1NChQ2PTWrVqpV69eunTTz+VJK1cuVKDBg2Sw3G41jZkyBBt2rRJu3fvtmCPAAAAAAAAUF7Ge0CNHDkybkyn8r755htJ0rPPPqsPP/xQNptNw4cP1+TJk9WyZUtt375dktSxY8e4uHbt2sXmbd++Xccdd1yl+ZK0bds2HXHEEWnlbZqmSktL04q1mtfrjfsJ1AfaHTKBdodMaKrtzjAMeTwehUIhBYOp3SIVCpV9p+n1emUmOVZPdna2QsGQIilsy2aUXbo21GswKzX2dlff7auhbLuxa+ztDo0T7a5xMU1ThmEktWzGC1CJfPPNN7LZbGrXrp0ee+wxbdmyRXPmzNH69ev19NNPxxqky+WKi8vKylJJSYkkyefzVTlfkvx+f9q5BYNBrVmzJu34+rBp06ZMp4BmiHaHTKDdIROaWrtzu93q3bu3ioqKVFSSWoEnHMiWJG3YsEE+n6/G5R0OhwoKClS0Z49CvoNJb8fhzlFbSevXr1coFEopx6aisba7+mxfDWnbTUVjbXdo3Gh3jUfFmkt1GnQB6qqrrtKFF16oNm3aSJKOO+44tW3bVr/+9a+1evVqud1uSWVjQUX/L5UVljwej6SyD5xAIP4+82jhKTs7O+3cnE6nunXrlna8lbxerzZt2qTOnTvHjgNgNdodMoF2h0xoqu0u+u1lXl6e7K6clGJzW5R9uXfsscem1EskLz9fkUDy12M2V9nx7t69e0r5NQWNvd1lon01hG03do293aFxot01Lt9++23SyzboApTNZosVn6KiFxzbt2+P3Xq3c+dOHX300bFldu7cqR49ekiSOnTooJ07d8atI/p7+/bt087NMIxaFbDqg8fjafA5oumh3SETaHfIhKba7hwOh5zOSMoxklL+Q8HhdMg0nUkvbzjLttMUj3uyGnu7q8/21ZC23dg19naHxol21zgke/ud1AAGIU9kypQp+u1vfxs3bfXq1ZKkbt26qWfPnmrRooWWL18em79v3z59/fXXKiwslCQVFhZq1apVCofDsWU++eQTdenSRfn5+dbvBAAAAAAAQDPXoAtQp59+uj7++GM98sgj2rJli/7xj3/o1ltv1a9+9St17dpVLpdL48aN0/3336+//e1vWrt2rSZPnqwOHTrotNNOkySNHTtWBw4c0LRp0/Ttt9/qtdde01NPPaUrr7wyw3sHAAAAAADQPDToW/D+53/+R/Pnz9eCBQv0xBNPqGXLljrzzDN13XXXxZa59tprFQqFNH36dPl8PhUWFmrRokVyOsu6c+fn52vhwoWaOXOmxowZo7Zt22rKlCkaM2ZMhvYKAAAAAACgeWlQBajZs2dXmvaLX/xCv/jFL6qNsdvtuummm3TTTTdVu0yfPn300ksv1UmOAAAAAAAASE2DvgUPAAAAAAAAjR8FKAAAAAAAAFiKAhQAAAAAAAAsRQEKAAAAAAAAlqIABQAAAKBeZDntctj5EwQAmiPe/QEAAACkzIxEUo45dfAxOntYF4pQANAMOTKdAAAAAIDGx7DZVLJqmSJBX9Ix3+8J6IQzzpPDbigUtjA5AECDQwEKAAAAQFoiQZ/MQPIFqKDPb2E2AICGjL6vAAAAAAAAsBQFKAAAAAAAAFiKAhQAAAAAAAAsRQEKAAAAAAAAlqIABQAAAAAAAEtRgAIAAAAAAIClKEABAAAAAADAUhSgAAAAAAAAYCkKUAAAAAAaPDMSqdc4AEDdcmQ6AQAAAACoiWGzqWTVMkWCvqRjbE63cgecbmFWAIBkUYACAAAA0ChEgj6ZgeQLUPR9AoCGg1vwAAAAAAAAYCkKUAAAAAAAALAUBSgAAAAAAABYigIUAAAAAAAALEUBCgAAAAAAAJaiAAUAAAAAAABLOTKdAAAAAIDmxe2yJ71sljP5ZQEADRcFKAAAAAD1wuZwyoxE9MsTj810KgCAekYBCgAAAEC9sDkcMmw2ffHGS/IdLE0qxuWyq1u3o9Sq4GSLswMAWIkCFAAAAIB6FfR5FfAmV4AywnZFQn6LMwIAWI1ByAEAAIBGwOHgu2MAQOPFpxgAAADQQJiRiAxb5e+Is7OzVVBQkHIcAAANBQUoAAAAoIEwbDaVrFqmSNAXNz0UDKlozx7l5efL4Yy/hLc53codcHp9pgkAQMooQAEAAAANSCTokxnwVZgWVMh3UJFAtkzTGT+vPpMDACBN9NMFAABoQiKmmekUAAAAKqEHFAAAQBNiMwx98NlWHSgNphTXLs+jQb06WpQVAABo7ihAAQAANDEHSoPadzCQUkwLj7PmhQAAANLELXgAAAAAAACwFAUoAAAAAAAAWIoCFAAAAAAAACxFAQoAAAAAAACWogAFAAAAAAAAS1GAAgAAAAAAgKUoQAEAAAAAAMBSDaoA9fjjj2v8+PFx095//32NHTtW/fr108iRI3XffffJ5/PF5q9atUo9evSo9G/58uWxZT7++GOdc845Kigo0KhRo/T222/X2z4BAAAAAAA0d45MJxC1ZMkSzZ8/XwMHDoxNW7lypa655hpde+21GjVqlDZv3qzbb79dxcXFuvfeeyVJ69at09FHH63nn38+bn25ubmSpO+++05XXnmlLr30Us2dO1cffPCBpkyZory8PA0dOrT+dhAAAAAAAKCZyngBaseOHbrjjju0fPlyde7cOW7eiy++qMGDB2vSpEmSpM6dO2vy5MmaPn26ZsyYIZfLpW+++UbdunVT27Ztq1z/008/rR49emjy5MmSpK5du+rrr7/WwoULKUABAAAAAADUg4zfgvfVV1/J6XTqjTfeUEFBQdy8CRMmaOrUqXHTbDabgsGgDhw4IKmsB1TXrl2rXf/KlSsrFZqGDBmiVatWyTTNOtoLAAAAAAAAVCfjPaBGjhypkSNHVjmvV69ecb8Hg0E99dRTOv7445WXlydJWr9+vdq0aaNzzjlHO3bs0HHHHafJkyerT58+kqTt27erQ4cOcetp166dvF6v9u7dG1tPqkzTVGlpaVqxVvN6vXE/gfpAu0Mm0O6QCQ253RmGIY/Ho1AopGAwmFJsKBwu+5lObKjsO02v15v0F3zZ2dkKBUOKpLAtm1F26dpQr8HqQnXHJXTo91AVxytTxyWVc2hIcjidMiMRSVIkElE4Ek5qO5GIEft/um1Gqr+23ZQ05Pc7NF20u8bFNE0ZhlHzgmoABahkhUIhTZkyRevXr9eSJUskSdu2bdP+/ftVWlqq6dOny26367nnntO4ceP02muvqVu3bvL5fHK5XHHriv4eCATSzicYDGrNmjXp71A92LRpU6ZTQDNEu0Mm0O6QCQ2x3bndbvXu3VtFRUUqKkmtGNEiq6wYUFJSol1F+1OKDQeyJUkbNmyIe1hMdRwOhwoKClS0Z49CvoNJb8fhzlFblX0BGQqFUsqxMUjmuBQXF1eOy8BxSfUcOhwOtW3XTj6/X5Lk9flUejC5NmqGnbH/F+8tUqD0QPJ5Hjo2ktJ6XaTatpuqhvh+h6aPdtd4VKy5VKdRFKAOHDig6667TitWrNAjjzwS693UsWNHffrpp/J4PHI6yz6YTjjhBH399dd69tlnNWPGDGVlZVUqNEV/93g8aefkdDrVrVu3tOOt5PV6tWnTJnXu3LlW+wikgnaHTKDdIRMacruLfgOZl5cnuysnpdjc3JaHfuZKdndqsS2yJEnHHntsSr1E8vLzFTn0B34ybK6y4929e/eU8mtsqjouoWBQxcXFat26tRxOZ9y8TB6XZM9h9Ltxd1ZZW/G43TKTLJa5XYf/ZGndJk+RnORfd9FjI6X5ukizbTcVDfn9Dk0X7a5x+fbbb5NetsEXoHbu3KnLL79cP/zwgxYtWqTCwsK4+a1atYr73WazqWvXrtqxY4eksiLVzp07K60zOztbLVu2TDsvwzCUnZ38BVMmeDyeBp8jmh7aHTKBdodMaMjtzuFwyOmMpBZjt6cf6yi7pEz1DwWH0yHTdNa84CGGs2w7DfW415VEx8XhdMa+eI3K5HFJ+Rzaym5ps9lsstvsScXYbIeHrU23zUj127abmob8foemi3bXOCR7+53UAAYhT6SkpESXXHKJioqKtGTJkkrFpw8//FD9+vXT1q1bY9NCoZDWrl0b6500cOBArVixIi7uk08+Uf/+/eM+zAAAAAAAAGCNBl2Buffee7V161bNnTtXeXl52rVrV+xfOBxW//791aZNG02dOlX//e9/tW7dOk2dOlXFxcX67W9/K0kaP368vvzyS91///367rvvtHjxYv31r3/VZZddltmdAwAAAAAAaCYa7C144XBY//d//6dgMKhLLrmk0vy//e1v6tSpk5566indf//9mjhxovx+vwYMGKDnnntORxxxhKSye+H/9Kc/ae7cuXr66afVqVMnzZ07V0OHDq3vXQIAAAAAAGiWGlQBavbs2bH/2+12ffnllzXGHH300XrooYcSLjN8+HANHz681vkBAAAAAAAgdQ36FjwAAAAAAAA0fpYUoLZv327FagEAAIBGwYyk9rQ1AACaurRuwfvpT3+ql156SX369Kk0b+XKlbr88sv1+eef1zo5AAAAoDEybDaVrFqmSNCXdIzd00qtCk62MCsAADIn6QLU4sWLVVpaKkkyTVOvvPKKPvzww0rLff7553K5XHWXIQAAANAIRYI+mYHkC1ARZ5aF2QAAkFlJF6D8fr8eeeQRSZJhGHrllVcqLWOz2dSyZUtdddVVdZchAAAAAAAAGrWkC1BXXXVVrLDUs2dPvfzyy1XeggcAAAAAAACUl9YYUGvXrq3rPAAAAAAAANBEpVWAkqR//etf+vvf/y6v16tIhad8GIahWbNm1To5AAAAAADQfBiGIbfbLcMwMp0K6lhaBajFixdrzpw5ysrKUl5eXqWGQUMBAAAAAAAVRUxTtgQ1A4/Ho969e6cVi4YtrQLUc889pzPPPFMzZ87kiXcAAAAAACApNsPQB59t1YHSYJXzQ6GQioqKlJeXJ4fjcMmiRbZTI/ofVV9pwgJpFaB2796tc889l+ITAAAAAABIyYHSoPYdDFQ5LxgMqqikVHZXjpzOSJXLoHGypRPUq1cvrV+/vq5zAQAAAAAAQBOUVg+oW2+9Vdddd52ys7NVUFAgj8dTaZmf/OQntU4OAAAAAAAAjV9aBajf/OY3ikQiuvXWW6sdcHzNmjW1SgwAAAAAAABNQ1oFqLvvvpsn3QEAAABNgBmJyLClNTIHAABJS6sAdc4559R1HgAAAAAywLDZVLJqmSJBX9Ixdk8rtSo42cKsAABNTVoFqE8//bTGZQoLC9NZNQAAAIB6Fgn6ZAaSL0BFnFkWZgMAaIrSKkCNHz9ehmHINM3YtIq35DEGFAAAAAAAAKQ0C1DPPPNMpWmlpaVauXKlXn/9dT388MO1TgwAAAAAAABNQ1oFqEGDBlU5fcSIEcrOztajjz6qxx9/vFaJAQAAAAAAoGmo88ddDBw4UCtWrKjr1QIAAAAAAFjGjETqNa65SasHVCLvv/++cnJy6nq1AAAAACSZpllp/NVURExTtlrEA0BTlc5TQW1Ot3IHnG5hVk1HWgWoiy++uNK0SCSi7du364cfftDll19e68QAAAAAxDNU9vCfzdtKFAiWfePu9GSrjaR3l2+WPxhOGN8i26kR/Y+yPlEAaKRSfiqohbk0NWkVoMo//S7KZrPpuOOO05VXXqmxY8fWOjEAAAAAVQsEI/IHyopNpr3s5/7SgHyBxAUoAAAyJa0C1LPPPlvXeQAAAAAAAKCJqtUYUB9++KFWrFihffv2KS8vTwMGDNCwYcPqKjcAAAAAqBNZTrvcLnvSy4fCle/6AACkL60CVCAQ0NVXX62PPvpIdrtdbdq00d69e/X4449ryJAhevzxx+Vyueo6VwAAAABInt0hMxKRYbPp1MHHpBTq9wf198++tygxAGh+0ipAPfzww1q1apXmzJmjM844Q3a7XaFQSG+99ZZmzJihRx99VH/4wx/qOlcAAAAASJphs8eeavXdph0KJDlGltOTrQGjz5fdZrM4QwBoPtIqQL311lu65pprdNZZZx1ekcOh0aNHa8+ePXrhhRcoQAEAAABoECJBn4Le0qQLUACAupdWSb+oqEi9evWqcl6vXr20Y8eOWiUFAAAAAACApiOtAtTRRx+tVatWVTnv008/VceOHWuVFAAAAAAAAJqOtG7Bu+CCCzR79my53W6dccYZOuKII7R792699dZbeuKJJ3TNNdfUdZ4AAAAAAABopNIqQP3mN7/R119/rfvvv18PPPBAbLppmhozZoyuuOKKOksQAAAAAAAAjVtaBahAIKCZM2dqwoQJWrFihUpKSmQYhk455RR17dq1rnMEAAAAAABAI5bSGFDr1q3T2LFj9eSTT0qSunbtqt/85je68MIL9cc//lHXX3+9Nm7caEmiAAAAAAAAaJySLkB9//33uvjii7V792516dIlbp7T6dSUKVNUXFysCy+8kKfgAQCAmIhpZiQWAAAADUfSt+AtWLBArVu31gsvvKC8vLy4eR6PR7/97W91xhln6LzzztPjjz+u22+/vc6TBQAAjY/NMPTBZ1t1oDSYUlyLbKdG9D/KoqwAAABQn5IuQH388ce64oorKhWfymvbtq0mTJigJUuW1ElyAACgaThQGtS+g4FMpwEAKXE57YqYpmyGkVZ8bWIBoKlJugC1c+dOde7cucbljjvuOG3fvr02OQEAAAAox5DkcDgkihn1ymk36MUJAHUk6QJUXl6edu7cWeNye/fuVW5ubq2SAgAAAJoy0zRlpFBMcjidatuunYUZIRF6cQJA7SVdgCosLNRrr72mM844I+FyS5cuVa9evWqdGAAAANBUGYahzdtKFAhGYtM8bWxqLWnLj/vkKz0Yt3wkEpHX69URea3UqX2r+k0WAIA6kPRT8MaPH6/ly5dr9uzZ8vv9leYHAgHNmTNHH374oS666KI6TRIAAABoagLBiPyBcOxfMBAumx4Kx033B8LyBULy+oIKhiI1rBUAgIYp6R5QJ5xwgm655RbNmjVLr7/+uoYOHapOnTopHA7rxx9/1PLly7V371794Q9/0LBhw6zMGQAAAAAAAI1I0gUoSbrooovUs2dPLVq0SH/7299iPaFycnJ00kknacKECSooKEg7mccff1wfffSRnn322di0NWvWaObMmfrvf/+rvLw8/fa3v9XFF18cmx+JRPTII4/olVde0f79+1VYWKjbb79dRx11VNLrAAAAAAAAgHVSKkBJ0oABAzRgwABJUlFRkRwOh1q1qv196EuWLNH8+fM1cODA2LS9e/fq0ksv1ciRIzVjxgx98cUXmjFjhnJycjR27FhJ0p/+9Cc9//zzmj17tjp06KC5c+fqsssu05tvvimXy5XUOgAAAAA0THabIdM0M50GAKCWUi5AlZeXl1frBHbs2KE77rhDy5cvV+fOnePmvfzyy3I6nbrrrrvkcDjUtWtXbd68WQsWLNDYsWMVCAS0ePFi3XjjjRoxYoQk6cEHH9SwYcP0zjvv6Fe/+lWN6wAAAADQcNltRuyJgVUN0J5IdGB3AEDmJT0IuVW++uorOZ1OvfHGG5Vu31u5cqUGDRokh+NwnWzIkCHatGmTdu/erbVr1+rgwYMaOnRobH6rVq3Uq1cvffrpp0mtAwAANB9mJL0BnNONA1C3qhqgPdG/6MDuAIDMq1UPqLowcuRIjRw5ssp527dv13HHHRc3rV27dpKkbdu2afv27ZKkjh07VlomOq+mdRxxxBG13wkAANAoGDabSlYtUyToSzrG5nQrd8DpFmYFAADQ9GW8AJWIz+eTy+WKm5aVlSVJ8vv98nq9klTlMiUlJUmtI12maaq0tDTteCtFj0v0J1AfaHfIBNpdw2cYhjwej0KhkILBYEqxoVBZR22v11tn479kZ2crUHpAkUDybcbmCklS7HO/Ibe7Wh3vcFlPkfo6V9nZ2QoFQ4qksC2bUXbp2lCvwcpLtH+GJIfTqUgkonDkcA+d6P8rTpekSDgSm1dxmejPsnMXSphXVecqnXPhCB7aZpJx0X02q8i/JhHz8J8sqcRJils2ldjYMT2Ub0N5D6tvDfn9Do1TMp9T0ekV59fHa6qpfzZZwTTN2G3SNWnQBSi3261AIBA3LVo0ys7OltvtliQFAoHY/6PLeDyepNaRrmAwqDVr1qQdXx82bdqU6RTQDNHukAm0u4bL7Xard+/eKioqUlFJ5Qszl9Mup8NeZazLVvZZvmXLFvl88T2WIpFI7A/xZDkcDhUUFKhozx6FfMmPIeNw56itpPXr1ysUOvzHfUNsdzUd70RaZJX9wV1SUqJdRftTig0Hyq6pNmzYUOlcVaWuz0VDU9P+ORwOtW3XTl6vV17f4T9y7O4cSZLX51PpwarPX/S61ufzqdRb9v+wWXbhv2fPHh30BqqMi6p4rtI9F1kBU/mSivcWKVB6oMblo/vsO3QdnmgfK3LZD/+hmUqcdPiYSvHHrCbRY7p/X4mko+rldZEum80mmy31kVVSeR9tiO93aJxS+ZwqLi6O+93q11RT/2yyUsVOP9Vp0AWoDh06aOfOnXHTor+3b98+dnJ37typo48+Om6ZHj16JLWOdDmdTnXr1i3teCt5vV5t2rRJnTt3jhXiAKvR7pAJtLuGL/qNWF5enuyunLh5TodNY08+TllZzoTriH6mlxeJhOXzpdeTOS8/X5FA8l9C2Vxlbat79+6S6qfdJftNYnVxVR3vmuTmtjz0M1eyu2tYukJsi7Le5ccee2xK30rX9lw0dNXtX/TsejweGfbD7d/tKTvuHrdbZoU/YiLhSFzPfrfbLdnKLuVdh9phfn6+sv2J//ip7lylei4cOW0kSa3b5CmSU/PrILrP7kN3IlS1j9Vxu7Ni/08lTjp8TMvWc/iY1SR6TFu2ypVUv6+LVLndWbLZqi7kJ5LM+yifs6hryXxOBYNBFRcXq3Xr1nI6D79H1tdrqql/NtW1b7/9NullG3QBqrCwUC+++KLC4bDs9rI31U8++URdunRRfn6+WrZsqRYtWmj58uWxAtS+ffv09ddfa9y4cUmtI12GYdSqB1V98Hg8DT5HND20O2QC7a7hczgccjrjv2l3u+zKynJq1dKXFPRW0TvKZVeXI3MrTY+OyZTuOXc4HTLNxEWv8gxn2eVSxe1Z1e4ipilbmgWoqKqOd40xh66T0oo99LCXVP9Aratz0VDVtH82m032coWD6P8rTq8YU3GZ6E+HwyFnJHHbqe5cpXoubE57WnFGFfnXuK1yr4dU4iTFLZtKbOyYHsq3Pl8X6Uh3bLtkX0t8zqKuJfOacjqdcQWo+npNNfXPprqWypdmDboANXbsWC1cuFDTpk3TZZddpi+//FJPPfWUZsyYIamsm9e4ceN0//33Ky8vT0ceeaTmzp2rDh066LTTTktqHQAAILOC3lIFqihAGWG7zEBWpelN/Xl0NsPQB59t1YHS1MabkaR2eR4N6tWx5gUBNCmRoE9mIPkCVFN/HwXQMDXoAlR+fr4WLlyomTNnasyYMWrbtq2mTJmiMWPGxJa59tprFQqFNH36dPl8PhUWFmrRokWxSmky6wAAAGhIDpQGte9gcmPVlNfCk/w3tmiespz2WvWyS2WwWQAAymtQBajZs2dXmtanTx+99NJL1cbY7XbddNNNuummm6pdpqZ1AAAAAM2B02GL62WX5bTr1MHHaOMPJVXeCluey2nTMR0r3xYLAEAyGlQBCgAAAID1or3s3K6ysY4CgbACgXCGswIANGWpP68TAAAAAAAASAEFKAAAAAAAAFiKAhQAAAAAAAAsRQEKAAAAAIBmwoxEMhILMAg5AAAAAADNhGGzqWTVMkWCvpTibE63cgecblFWaA4oQAEAAAAA0IxEgj6ZgdQKUPR9Qm1xCx4AAAAAAAAsRQEKAAAAAAAAlqIABQAAAAAAAEtRgAIAAAAAAIClKEABAAAAAADAUhSgAAAAAAAAYCkKUAAAAAAAALAUBSgAAAAAAABYigIUAAAAAAAALEUBCgAAAAAAAJaiAAUAAAAAAABLUYACAAAAAACApShAAQAAAAAAwFIUoAAAAAAAAGApClAAAAAAAACwFAUoAAAAAEAlhmHI7XbLMIxMpwKgCXBkOgEAAAAAQMMRMU3ZDEMej0e9e/dOKxYAKqIABQAAAAB1LMtpr1UxJpOFHJth6IPPtqp4n1dFRUXKy8uTw1Hzn44tsp0a0f+otLdb232m+AU0bBSgAAAAAKCOOR22WCHnQGkwpdjaFnLqwoHSoEoO+FVUUiq7K0dOZ8TybaZ7vKSGccwAJEYBCgAAAM1WY+2hgsbjQGlQ+w4GMp1Go8HxApouClAAAABothpzDxUAABoTClAAAABIm8NuU5bTnuk0aoUeFwAAWI8CFAAAANLisNt09rAuyspyZjoVAGiUGHgdzQkFKAAAAKTFYTeUleXU6rdfUad8V9Jxdk8rtSo42cLMAKBxYOB1NCcUoAAAAFArQZ9XZiD5J2RFnFkWZgOr2G2GTNOUQW8LoE5xGzCaCwpQAAAAAGpktxkyDEObt5XI3sKm1pK2/LhPvtKDNcbmeBz6SduWlucIAGi4KEABAAAASFogGJEjEC77fygs/6H/J+Jy2KxOCwDQwFGAAgAAAKrhsNvksFe+5axltovBfwEASAEFKAAAAKAKtX3K3+YfSuT3llaazu1oAIDmiAIUAAAAUIXoU/5WLX1JwQqFpByPQ506tNLGH0oUqHALmqd1ngp+cbaC4UiVt6dxOxoAoDmiAAUAAAAkEPSWKlChAJVlOGUGXGXzKhSZnG5PfaYHAECjwNcvAAAAAAAAsBQFKAAAAAAAAFiKAhQAAAAAAAAsRQEKAAAAAAAAlqIABQAAAAAAAEtRgAIAAAAAAIClHJlOoCbLly/XxRdfXOW8Tp066W9/+5seffRRzZ8/v9L8devWxf6/ZMkSLV68WLt27dLxxx+v6dOnq1evXlalDQAAAAAAgEMafAGqX79++uijj+KmffHFF/r973+vq6++WlJZoenss8/WTTfdVOU6/vznP2vOnDm6++671atXLy1YsECXXnqp/vKXvygvL8/yfQAAAAAAAGjOGvwteC6XS23bto39y8nJ0b333qsxY8Zo7NixkqRvvvlGvXr1iluubdu2sXU89thjGjdunM466yx169ZNs2bNksfj0SuvvJKp3QIAAAAAAGg2GnwBqqLHHntMXq9XU6dOlSQFAgFt2rRJxx57bJXL79mzR5s2bdLQoUNj0xwOhwYOHKhPP/20XnIGACAqYpoZiQUAAAAyqcHfgldeUVGRnnrqKd1www1q3bq1JOnbb79VOBzWsmXLNHPmTPn9fhUWFuqmm25Su3bttH37dklSx44d49bVrl07rV27Nu1cTNNUaWlp2vFW8nq9cT+B+kC7QyY0tnZnGIY8Ho/+tmKT9pcGUoptme3S/wzqLK/XK7MRFaKi+xwKhRQMBuPmOWxl+xGOhBWOhCvFRiKGJCkUDKr8HtuMssuXdD6Hs7OzFQqGFKmQSyIVt2dlu0t0vJIRCpcdx3Ti04mNnsNIJFIWW+FcVRsXPLStWp6L2qrpeCdqoxGzLJdIJFJpXvT3quYlik0UFwlHYvMqLhP9WbYfoYT7XPE81/Q6rCnv6vaxulizivyTjU01TlLcsqnExo5ptG3X02sqFhsq6yeQzHt+XbyvlVfV6yLZ/FPJO5ntpqI2286UTO1zOm1Gqpv34GT2ubp2Vx/nuK5fT82BaZoyDCOpZRtVAer5559Xy5Ytdf7558emffPNN5Ikj8ejP/7xj9qzZ4/mzZuniy++WEuXLo1dHLpcrrh1ZWVlye/3p51LMBjUmjVr0o6vD5s2bcp0CmiGaHfIhMbS7txut3r37q3N329XUUlqFyl5udnSoM7asGGDfD6fRRnWveg+FxUVVdrnHE/ZZ7O31Ct/FRdtZtgpSdq7d69CocN/VDvcOWoraf369XHTa+JwOFRQUKCiPXsU8h1MPq6a7VnR7hIdr2S0yCr7g7ekpES7ivZbHhs9h2Vt0lPpXFUnK2AqX1Lx3iIFSg8knWO65746NR3vRG3UZS/748fn86nUG19QtrtzyuJ8PpUerLze6mJripPKev9XjA2bZRf+e/bs0UFv4uJ2xfNc0+uwurzttqwac60q1u8PpBRXPjbVOOnwMY3mXfFcVSd6TPfvK5F0VL29pmLbD2RLUo3v+XX9vibFvy6KD70uiouL6zTvqtT2/a82286UTOxzum1Gqpv34FT2uWK7s/ocW/F6ai4q1luq06gKUEuXLtXo0aPldrtj00aPHq3hw4fHDSbevXt3DR8+XO+//76OPvpoSYc/rKP8fr88Hk/auTidTnXr1i3teCt5vV5t2rRJnTt3rtU+Aqmg3SETGlu7i347lJeXJ7srp4al4+W2KPtj79hjj2003+xKiffZk1V2GeLJ9shuVN4nt6tsfps2beJ7QLnKznX37t3TyikvP1+RQxexyai4PSvbXW3aiCTl5rY89DNXsrtrWLr2sdFzGL02q3iuquPIaSNJat0mT5Gc5I9hbc99RTUd70Rt1O3OOvTTLdniL6ndnrLj4XG7ZVbxx0h1sYniIuGIfD5f7CK/fKzrUDvMz89Xtj/xHz8Vz3NNr8Pq8rbXsI/VxWZluVKKKx+bapx0+JhG8654rqoTPaYtW+VKqr/XVCw2xff82r6vlVf+dRExXCouLlbr1q3ldDrrPO/qtpvW+18j/JzM5D6n2makunkPTmafg8Fgle2uvs5xXb6emoNvv/026WUbTQFq7dq12rp1q84888xK8yo+ya5du3Zq3bq1tm/frsGDB0uSdu7cqa5du8aW2blzp9q3b592PoZhKDs7tRdsffN4PA0+RzQ9tDtkQmNrdw6HQ05nJOUYSY2i0FaVqvbZ4bBLkuw2u+w2e6UYm62sq72jwh89hrPsWKR7zh1Oh0yz5j+katqele0unTYiSQ67Pe34dGKj57C6c1Udm/PQturoXNRWdfucqI3aDv0RZbPZKs2L/l7VvESxNcVF51VcJvrT4XDIGUl8G0TF81zT67CmvBPlWlWsUUX+ycamGicpbtlUYmPHNNq26+k1FYtN8T3fitdSWd5l63Q6nUkVoOrisyrt979G/DmZiX1Otc1IdfsenMw+V2x39XWOG8pnU2OR7O13UiMahHzlypXKz89Xz54946Y/+OCDOv300+MqoN9//7327t2rbt26KT8/X126dNHy5ctj80OhkFauXKnCwsJ6yx8AAAAAAKC5ajQFqK+//lo9evSoNP3UU0/VDz/8oDvvvFMbN27Up59+qt///vfq37+/hg0bJkmaMGGCnnzySf35z3/Wt99+q1tvvVU+n0/nnntufe8GAAAAAABAs9NobsHbtWtX7Ml35R1//PF64okn9Mc//lHnnHOOXC6X/ud//kdTp06NdQX79a9/rf3792v+/PkqLi7W8ccfryeffLLSrXsAAAAAAACoe42mAPXEE09UO2/o0KEaOnRowviJEydq4sSJdZ0WAAAAAAAAatBobsEDAAAAAMAKkVo8Va02sUBz0mh6QAEAAAAAYAWbYeiDz7bqQGkwpbgW2U6N6H+URVkBTQsFKAAAAABAs3egNKh9BwOZTgNosrgFDwAAAAAAAJaiAAUAAJACwzDkdrtjT9sFAABAzbgFDwAAoAqmaVZZZPJ4POrdu3fC2IhpykaBCmj0nI6y7+uznHa5XfakYkJhU6FwxMq0AKBRogAFAABQBcMwtHlbiUyHX20kvbt8s/zBsEKhkIqKipSXlyeHo/KlFAPSAo2f3eGUGYmosHdHSdKpg49JOtbvD+r1f260KjUAaLQoQAEAAFQjEIzIjIQlSftLA/IFwgoGgyoqKZXdlSOnk14OQFNkczhk2Gz65p1X1baVQxt/KFEgEK4xzunJ1oDR58thpwckAFREAQoAAAAAqhDyeWW6nQp6S5MqQKH2qrrdkdsagaaBAhQAAACaterG90l2zB8AyTEjERm2xM/Bqup2x+htjRSh6lZ1Yx0mg7EOkQ4KUAAAAGjyEv3hW9P4PoaNP7KAumDYbCpZtUyRoK/aZSre7lj+tsYQndDqVHSsw0AwucKe05OtNpL+/eUP+lmfI61NDk0SBSgAABqBLKe91t828m0lmrNEf/hWN76Pp3WeCn5xtqg/AXUnEvTJDFRfgOJ2x/oVCEbkT/J4m/ay5Q56Q1amhCaMAhQAAI2A02GTzTD0wWdbdaA0mHI8T2YDqv/Dt7o/eJ1uT32kBaCZc9iNtG75ZbB7NDYUoAAAaEQOlAa172Ag02kAAIA6MnJAJ7lczpTjAoHUv5ACMokCFAAAAACg2Ys+kKC+n7rncjm1aulLCnpLk46Jjo0FNCYUoAAAAAAATU4yT90rL/pAgkw8dS/oLVUghQIU0BhRgAIAAAAANDnJPHWvvI0/lMi0Z/HUPcAiFKAAAAAAoA65XXa5HGU9b6K3ddWkvm/7ai5qeupeeUFvaexJbwDqHgUoAABQo4hpymbwtJ2mzG4rO7/J/rEsKa2nNgFNmd3hlBmJ6JcnHhubFr2tqyaZuO0LAOoTBSgAAFAjm2Hog8+26kBpak/caZfn0aBeHS3KCnXFYbdpyPEdJCX/x3J5yY+wAjRtNodDhs2mL954SfZIQJ06tNLGH0oUCCTuVRMdUJrbvgA0ZRSgAABAUg6UBrXvYCClmBae1B8rjfrnsBtyOh0qWbVM323aUeMfy1Ge1nkq+MXZMugdB8QJ+rwyIwGZAVfZ4NJJvqYAoCmjAAUAAABJZWOlpPLHstPtqZPtmqZZqyIWt4gCANDwUYACAABARhmGoc3bShQIJh77xunJVhtJ7y7fLH+wrEjWItupEf2PqocsAQBAbVCAAgAAQMYFghH5a+h5FX061f7SgHzc0gQAQKPCmJEAAAAAAACwFAUoAAAAAAAAWIoCFAAAAAAAACxFAQoAAAAAAACWogAFAAAAAAAAS1GAAgAAAAAAgKUoQAEAAAAAAMBSFKAAAAAAAABgKQpQAAAAAAAAsBQFKABAo2UYhtxutwzDyHQqAAAAABJwZDoBAADSETFNeTwe9e7dO+14G4UrAAAAoF5QgAIANEo2w9DfVmzS5u+3Ky8vTw5H8h9pLbKdGtH/KAuzAwAAAFAeBSgAQKO1vzSgopJS2V05cjojmU4HqDMOuyG3y55ynN1Grz4AANAwUYACAABoYEYO6CSXy5lyXDAYsiAbAACA2qMABQAA0MC4XE6tWvqSgt7SpGOcnmwNGH2+hVkBAACkjwIUAABISpbTXu1tYaGwqVCY2yDrUtBbqkAKBSgAAICGjAIUAACIMSMRGTZblfNOHXxMtXF+f1Cv/3MjRSgAAABUiQIUAACIMWw2laxapkjQV2nexh9KFAiEK02P3vrlsBsKVZ7drCUq6NXEYEBxAADQhFCAAgAAcSJBn8xA5QJU0FtaZQEK1UtU0KuO3dNKrQpOFvUnAADQlKT3lVw927Fjh3r06FHp32uvvSZJWrNmjcaNG6e+fftq5MiReuaZZ+LiI5GIHnroIQ0bNkx9+/bV5Zdfrq1bt2ZiVwAAQDMTLegl+y8S8mc6ZQBNgGmamU4BAOI0ih5Qa9euVVZWlt577z0ZxuGvA1u2bKm9e/fq0ksv1ciRIzVjxgx98cUXmjFjhnJycjR27FhJ0p/+9Cc9//zzmj17tjp06KC5c+fqsssu05tvvimXy5Wp3QIAAAAASxiGoc3bShQIVh6bz+nJVhtJ7y7fLH8wvmdruzyPBvXqWE9ZAmhOGkUB6ptvvlHnzp3Vrl27SvOefvppOZ1O3XXXXXI4HOratas2b96sBQsWaOzYsQoEAlq8eLFuvPFGjRgxQpL04IMPatiwYXrnnXf0q1/9qp73BgAAAACsFwhG5K/i1mnTXjYtGAorUKEAFTpUsMpy2uXJcijH45InyyGH4/BTUHnyKYB0NIoC1Lp169S1a9cq561cuVKDBg2Sw3F4V4YMGaLHH39cu3fv1o8//qiDBw9q6NChsfmtWrVSr1699Omnn1KAAgAAANCs2B1OmZGIfnnisdUuw5NP0dBkOe2KmKZsRvqDJNY2HrXTKApQ33zzjdq0aaOLLrpIGzdu1DHHHKOrrrpKw4cP1/bt23XcccfFLR/tKbVt2zZt375dktSxY8dKy0TnpcM0TZWWlqYdbyWv1xv3E6gPtDvUJ8Mw5PF4FAqFJEnBYDCl+FCobAhEr9dbr2NklM875ZzDZd9QpxNbFpfcPmdnZysUDClSbhuGJIfTqUgkonCk8jfp0WlluYWSztthM2PxVa03Eim7QAwFgyqfsc0ou3xJ53O4qv2rSvl9jhjx+xfdj+rOQ/lj7fF4ktpe+e1GBweo7nhXp/yyqbaT6LlIdbvR5SJmJLZdJfGash/qcREOhhQJheRwOJLablVtrT7adlXzI6aj2nmJ4hLFJtzeoT/0I5FIpWUSvQYrqviarOl1WFPeybaXaKxZRf7JxqYaJ8W/LtJr22ZKseWPSyqxFc9hKp9T6bRt02bIsNn0+esvqvTAgbh5LbKzdHTHVvpu6155fQH5fX5lubNkO/RET5cnW4XnXCiZ4crv+TXkneg9uLqck23fVW27Lt7za1Kba4rodYGU3GuwvPLLprrt7OxshYMh2ZTe6yIUDqW1XSm5a6HqPmcNwy2bYehvKzZpf2kgpe1KUstsl/5nUOeEeSfbZsqrzXVJU2CaZtxQSYk0+AJUKBTShg0b1K1bN918881q0aKF3n77bV1xxRV68skn5fP5Ko3jlJWVJUny+/2xP4arWqakpCTtvILBoNasWZN2fH3YtGlTplNAM0S7Q31wu93q3bu39u3bJ0kqLi5OKT4cyJYkbdiwQT5f8k8nq61o3kVFRSoqSe0ipUVW2UVfSUmJdhXtT3nbyeyzw+FQQUGBivbsUch3MG5623bt5PV65fVVviALm2UXHXv27NFBb/wFYaK8czxln83eUq/8VVy0mWGnJGnv3r2xYqMkOdw5aitp/fr1cdNrUt3+VbdsdJ8jtnCV+1ddu4se6y1btqhHjx5Jba/8dtu3PkKS5PX5VHow+XYSPQ9S6u0kei4kyefzqdSb3IW93Z0jSQqFAjLNrLge6YnYnGW38tidDtkOFReS2W5Vbc3Kth3dv6rOhctuVpt3orhEsTXFSVIgEKgUm+g1WFHF12RNr8Pq8rbbsmrMtapYvz+QUlz52FTjpMPHNJp3qm277Hi7ko4tfw6dZjDp7VY8h8l+TtW2bZfsLdLBkn3xM1t5ZOa7tH9vUSxvf+nhdWdl58TlGrcfCfKu6T24upyTbd8Vt13X7/nJbjcV0esCKbnXYNx2y73np7Lt6HEpLilWXqsW1baRRNuMfv7VZp+TuRaq+Dkbff/6ftuutK6F8nKzpUGdq807lTYTF5fmdUlTkuzY2g2+AOVwOLR8+XLZ7Xa53W5J0vHHH6/169dr0aJFcrvdsQ/iKL+/7Okx2dnZsZhAIBD7f3SZaLU5HU6nU926dUs73kper1ebNm1S586da7WPQCpod6hP0W9ZWrVqpaKSUrVu3VpOpzPp+NwWZX84HXvssfXeA0qS8vLyZHfl1LB0vNzclod+5kp2dw1LVxGfwj7n5ecrcuiCWir7ZliSPB6PDHvl4+w69JrPz89Xtj/+witR3p6ssssQT7ZHdqNyTm5X2fw2bdrE94BylW2ve/fuCfejOhX3ryrl9zliL7uoiu5fMBhUcXFxte0ueqyPPvropLdXcbuS5HG7ZaZwIesq996bajuJngup7I8D2ZK7RHR7yrbhcbtlGIY2/lBcaTyZqmS3kVoPkDb9UCx7JKBO7Vsltd3oPh7Zsb18gbJj0zKn7PxY0bbL71/Fc+F2Zx36WTnvRHGJYhPFRcKRuC9ey8cmeg1WVPE1WdPrsLq87TXsY3WxWVmulOLKx6YaJx0+ptG8U23bVR3vZOI8brccpj3p2IptO5V2LVnXtiOmTT6fT263WzZ7tAdUgvf8JD5rqntPrC7nZNt3dduu7Xt+TWpzTVG+10gyr8Hyyr/np7Pt1rmtJTNUbRtJtM3WrVunvd1kroWq+5ytr2uhVD63pdpflzR23377bdLLNvgClCTl5FRumN27d9dHH32kDh06aOfOnXHzor+3b98+VoHcuXNn7EIw+nuPHj3SzskwDGVnJ98oM8Hj8TT4HNH00O5Qn6K9LZxOZ0oFqGhcpoqlDodDTmdq42Y47Pa0Y6NxUnL77HA6ZJqVj6fNZpPdZq80PTrN4XDIGYnvgp0o7+iAtnabvcr1Rm/3cFQ4t4azbF/Sfa+pbv+qYrPZZFSzf9W1u4rHOpXtVdx2VcelOuWXTbWdlB9cOJXtRpeLjqcRCpsKhmr+YyR0aJlQ2JQiZtLbdbncMiMRnfXzyhf5VrbtquZH97mqeYniEsXWFBedV3GZRK/Biiq+Jmt6HdaUd7LtJRprVJF/srGpxknxr4vatO1kY8sfF1sk+djq2nayn1NWte1o0clmT669JfNZU9N7YnWvi5rad3Xbrqv3/FS3m6pkXoMVl49KZ9t2p0NmIJTW68Jhr/0+J/M5VfFztr6uhVL93K7tdUljl+ztd1IjKECtX79e559/vh599FENHjw4Nv2///2vunXrpp/+9Kd68cUXFQ6HZT/UID/55BN16dJF+fn5atmypVq0aKHly5fHClD79u3T119/rXHjxmVknwAAAJA6m8Mhw2bTF2+8JN+h27BcLru6HJmbMM7uaaVWBSfXR4oZ5XbV/Eeky1FWUMhy2uV22ZOKgfUqtu1k2rXUfNo2gKahwRegunbtqmOPPVZ33XWXZsyYoTZt2ujll1/WF198oVdffVX5+flauHChpk2bpssuu0xffvmlnnrqKc2YMUNSWbfZcePG6f7771deXp6OPPJIzZ07Vx06dNBpp52W4b0DAABAqoI+rwLesgKUEbbLDGQlXD7iTDy/sUvmiWYVVXzCmWHjqVANQbRtJ9OupabftgE0LQ2+AGWz2fTYY4/pgQce0HXXXad9+/apV69eevLJJ2NPv1u4cKFmzpypMWPGqG3btpoyZYrGjBkTW8e1116rUCik6dOny+fzqbCwUIsWLUrpdg0AAACgIaqqZ1h1cjwOderQSht/KFEgEJandZ4KfnG2qD8BAKzW4AtQknTEEUfo3nvvrXZ+nz599NJLL1U7326366abbtJNN91kRXoAAABAxpXvGVadLMMpM+BS0FuqQCAsp5sHhwAA6oct0wkAAAAAAACgaaMABQAAAAAAAEtRgAIAAAAAAIClKEABAAAAAADAUhSgAAAAAAAAYCkKUAAAAAAAALAUBSgAAAAAAABYigIUAAAAAAAALEUBCgAAAAAAAJaiAAUAAAAAAABLUYACAAAAAACApShAAQAAAAAAwFIUoAAAAAAAAGApClAAAAAAAACwFAUoAAAAAAAAWIoCFACg2XHYjUynAAAAADQrFKAAAM2Kw27TyAGd0oo1I5E6zgYAAABoHhyZTgAAgPrksBtyuZwqWbVMkaAv6Tib063cAadbmBkAAADQdFGAAgA0S5GgT2Yg+QIUfZ8AAACA9HELHgAAAAAAACxFAQoAAAAAAACWogAFAAAAAAAAS1GAAgAAAAAAgKUoQAEAgAbJbjNkmmat1hGpZTwAAADqBk/BAwAADZLdZsgwDG3eVqJA8PBzCJ2ebLWR9O7yzfIHw9XGt8h2akT/o+ohUwAAANSEAhQAAGjQAsGI/IHDhSbTXvb//aUB+QLVF6AyJctpV8Q0ZTOMTKcCAADQYFCAAgAAqENOh002w9C/v/xBP+tzpDb+UKKgtzSp2ByPQ51yci3OEAAAoP5RgAIAALDAQW9IkhQIhBVIsqeWy8HwnAAOj4Fn0JMSQBNCAQoAAAAAGpDqxsCryNPGptaStvy4T77Sg7HpOR6HftK2pfWJAkAKKEABAAAAQANUcQy8ihyH5gVC4bjlMtWbsjmOgdcc97mxqu25oldi7VGAAgAAAADUWnQMvA8+26oDpcG4eVlOu04dfEy14+I1tF5bbpc9qeVy3I7YuH/7DgYUCptJb6NdnkeDenVMN0WkKFH7lBK3UZfTpmM6MkZjbVGAAgAAAADUmQOlQe07GIibFi3oVDcuXkMZA8/ucMqMRPTLE49NKe5nfY6U3x/U6//cqFC4+tsmy2vhcaaTIpLgsNvksMf3Voq2sWAwokCwchu0HVo8lbEbkRoKUAAAAAAASLI5HDJsNn3xxkvyHaz5CaY5Hoc6dWil7/cEdMIZ58lhNxSqh9pFtFBm2Oq/cOdyJtc7LFMcdpvOHtZFWVlVF/hOHXxMwnjDxm12VqEABQAAAABAOUGfV4EqbhWsKMtwygy4FPT56yGrw6KFspJVyxQJ+pKOs3taqVXByWltM1r0+nn/TinH1mexzGE3lJXl1KqlL8XdShctFm78oaTKHk6e1nkq+MXZov5kHQpQAAAAAAA0QpGgT2Yg+QJUxJmV9raiRa+v/u//6Sd5yd8+aHO6lTvg9LS3m66gtzSuiBgrFnpLqyxAOd2e+kyvWaIABQColdo8TSSTT40xzeQHCZUk2R1pf3uXqS7yAAAAdS3k88pMYYyk5EbEQnNAAQoAUCvRp4n4/CGNHNBJLlcK34gdKj5lokBjGIY2bStRIJjcZZGnjU1tbDZ9886ratsq+Y/PTH3rh7oXHUDXYTOV43HJk+WQw1F5HIzoIKcNfYwMAACA+kQBCgBQawdKgwoEw3K5Kt9vXx2Xy64uR+ZmtEATCEbkT/IbPMeh5bwHSmW6XUlvg2/9Gr90n4gUHSODwUwBAAAoQAEA6ljF++2rY4TtMgNZFGhgmSynvU5u86z4RKRwJCxvqVeebI/stsq9nKKDnG4/YNNPTzmTwUwBAABEAQoAADRRToctdovogdKgspx2nTr4GG38oaTGXno5Hod+0rZl3LToE5HCkbD8paWyG2aVBajYIKd+xv0CAACIogAFAMgIu82QaZqic0jdc9htctjjj2xWMx6P6EBpUPsOBmJjOAUC4SqfflNedBwnAAAA1A0KUACAjLDbDBmGoe937FMbSe8u3yx/MLnxmNrleTSoV0drE2ykHHabzh7WRVlZyQ8GDwAAAFiNAhQAIKOCIVOStL80IF+SA4K38FBcqY7Dbigrq/Jg8NFB3xOxe1qpVcHJVqcIAACAZqhRFKCKi4s1b948ffDBBzpw4IB69OihG264QQMHDpQkXXrppfr3v/8dFzNo0CA9++yzkiS/36/Zs2frr3/9q3w+n0aOHKlp06YpLy+v3vcFAID6UHEw+Oig74lEnInnAwAAAOlqFAWo66+/Xrt27dK8efOUn5+vZ599VhMnTtSf//xnHXvssVq3bp3uvPNOnXLKKbEYp/Pwt+N33nmnVq5cqYcfflgul0t33HGHrr32Wj333HOZ2B0AAAAAAIBmpcEXoDZv3qx//etfev755zVgwABJ0m233aZ//vOfevPNNzVu3Djt2bNHBQUFatu2baX4HTt2aOnSpXrsscdiPabmzZunUaNG6fPPP1e/fv3qdX8AAAAAAACamwb/iJc2bdpowYIFOuGEE2LTDKNs4Np9+/Zp3bp1MgxDXbp0qTJ+1apVkqQhQ4bEpnXp0kXt27fXp59+am3yAAAAAAAAaPgFqFatWunnP/+5XC5XbNqyZcu0efNmDRs2TN98841atmypu+66S8OHD9eoUaM0f/58BQIBSWU9oNq0aaOsrPhxLdq1a6ft27fX674AAAAAAAA0Rw3+FryKPvvsM91yyy067bTTNGLECN16663y+/3q06ePLr30Uq1Zs0Zz5szRjz/+qDlz5sjr9cYVr6KysrLk9/vTzsM0TZWWlta8YAZ4vd64n0B9oN01T4ZhyOPxKBQKKRQqe4JdOBJWOFLz0+wiZtlHUCQSkSSFQiEFg6GkthsKH9rWoZ/BYDDpnB0283AOkUhSuUqKLRcxD+UbDMpMFHCIzSjbz9LS0rjjlUrO0uF9rik2un8Vz0MkYtSYtyN4aBvBkCLltmFIcjid1R6v6LSqzmGivKvLNZZzuTZSfn6i7SXadk3bq2nb0f9HwmVtIPqzuljzUNtOpZ1FY1ONkxS3bKptrPavCzOl2PLHNJXYiuei7P/Wt+2q5lfXPmuKSxSbcHvhw+2p4jI1bS/RtmsTm2xc+dhMvi4aU9tO1L4SxUXVFJ9s267q/a7BvueHyvpWeL1emYeOfXZ2dqXXfVWqei9ItW3X5npGSv76qfzysfUkeU0iHX4/DAdDsqlhXgtFp1ecX+trodq8LhJ81pTfv+bINE0ZhpHUso2qAPXee+/pxhtvVP/+/XX//fdLku666y5NnTpVubllj5Y+7rjj5HQ6NXnyZE2ZMkVutzvWG6o8v98vj8eTdi7BYFBr1qxJO74+bNq0KdMpoBmi3TUvbrdbvXv3VlFRkfyBsostb6lX/iQ+gF32so9vv6/sy4A9e/booLfy+3VVWmSVXRQcOHBAUtnTUpOV4zn8pYTP51Npktu0u3Mk6dCXF27t3btXoVDNF5gOd47aSlq/fr0cDkfseBWVpHaREt3nkpIS7SraX+1y0f2reB7McNnDORLlnRUwlS+peG+RAqUHDu+Dw6G27drJ6/XK66t8wRc2yy46qjqHifKuLteoaBupeJ4SbS/RtmvaXnXbttvKelF7fT6VHjwc5/P5Esb6/YEq45LZbqpx0uHjItXcTiqq7eui7FrLlXRsNM7r88lpBpPebvm46LGxsm1Xtb2o6tpnTXGJYmuKkxS7ri0fm0xcddtON7a610VNsfX9uojuXzTvxtK2E7WvRHFRNcUn27Z9vsPtLaqhvueHA9mSpA0bNsjn88nhcKigoEBFe/Yo5DtYbZwU/17gSLdt1+J6Rkr++imqfNtO9ppEOvx+uG//PrVukV3t+1+ibdbXtVDF67vaXgvV5nWR6LOm/P4lex6amqo6/VSl0RSgnnvuOc2cOVOjRo3SfffdF9tBh8MRKz5Fde/eXZK0fft2dejQQcXFxQoEAnEHZefOnWrfvn3a+TidTnXr1i3teCt5vV5t2rRJnTt3rlWRDUgF7a55in7bkZeXp8Chb9Q82R7ZjZq/D3O7yy7wsg79zM/PV7Y/uQ/t3NyWkqQWLVpoV9F+tW7dOu7pp4l4sg5/9LndbsmW3Eeh2+Muy/fQLd1t2rRJ7ls/V9nroXv37nHHy+7KSRRWSXSfc3NzJbu72uWi+1fxPLhdjhrzduS0kSS1bpOnSM7h13G0rOHxeGTYKx9n16HXfFXnMFHe1eUay/lQ26h4nhJtL9G2a9peddu2Hzr3HrdbZiikSDgin88nt9stm73yaAaxtp3liotLRjQ21Tjp8HGRam4nFdX2dRG9xko21l3umDpMe9Kx7grnQrK2bVe1vdi8atpnTXGJYhPFRdtdVce6pu0l2na6sRVfFzXJ1Osiun/RvBtL207UvhLFxabXEJ9s246Ytkrvdw32Pb9FWfyxxx4b6wElSXn5+YocKk5Vp/x7QdptuxbXM1Ly10+x7ZZr28lek0iH3w9btWwlmaFq3/8SbdPqa6FgMKji4uJK13e1vhaqzesiwWdN+f1rjr799tukl20UBajnn39ed999t8aPH69p06bFde8aP368OnXqpHvvvTc2bfXq1XI6nercubPatm2rSCSiVatWaejQoZKkjRs3aseOHSosLEw7J8MwlJ2d+I0s0zweT4PPEU0P7a55cjgcihz6htJus8tus9cYYzv0Xm6z2WLrcEaS7L5rL1u//dBPp9OZdAHK4Ticm81mSypXSbHlbMahfJPcnuEs+6gt/7pwOBxyOqu+fas60X2uKTa6fxXPQ+w4J8jb5jy0DadDpll5ueqOV3RaVecwUd7V5RrbXrk2Un5+ou0l2nZN26tp2xXzsNmrPh7RWOPQMU+lndnKXeOkEicpbtlU21jtXxdVn6sa42w22SLJx1Z1LuqjbVc1P9E+J4pLFFtTXHRexWWSiatu27WJTTaufGwmXxeNqW0nu91q359qiE+2bUeLTuXf7xrse77jUNGhwheh1b3uq1Kbtl2b6xkp+eun8svH1pPkNYl0+P3Q7nTIDIQa9LVQxeu7Wl8L1eZ1keCzpqr9a06Svf1OagQFqI0bN2rWrFk69dRTdeWVV2r37t2xeW63W6effrpmzZqlPn366KSTTtLq1as1Z84cTZw4US1atFCLFi10xhlnaPr06Zo1a5Y8Ho/uuOMODRo0SH379s3cjgEAAAAAADQTDb4AtWzZMgWDQb377rt699134+aNGTNGs2fPlmEYevbZZzVr1iy1bdtWv/3tb3XFFVfElrv77rs1a9YsXXPNNZKk4cOHa/r06fW6HwAAAAAAAM1Vgy9ATZo0SZMmTUq4zEUXXaSLLrqo2vnZ2dm65557dM8999R1egAAAAAAAKhB5ZEzAQAAAAAAgDpEAQoAAAAAAACWogAFAAAAAAAAS1GAAgAAAAAAgKUoQAEAAAAAAMBSFKAAAAAAAABgKQpQAAAAAAAAsJQj0wkAAAAAABoXt8teaZrLUda/IctprzS/quUBNC8UoAAAAAAASbE7nDIjEf3yxGOrXebUwcdUO8+wGVak1WCkUmiLFuyA5oICFAAAAAAgKTaHQ4bNpi/eeEm+g6Vx83I8DnXq0EobfyhRIBCOm+dpnaeCX5ytplp/siVRmEukqRfmAIkCFAAAAAAgRUGfVwFvfAEqy3DKDLgU9JZWKkA53Z76TK/eJSrMVSfH49AxXTqpVcHJTbYwB5RHAQoAgGbAbjNkmqYMgyvc5qCq8VcSacxjs9C2AUhl73sR05Qtw+8FVRXmqpNlOBUJ+Wu1PdM0axUP1CcKUAAA1LNkiwOhsKlQOFIn27TbDBmGoc3bShQIVr1OTxubWkva8uM++UoPxqbneBz6SduWdZIHrBMdl8Ww2RKOv9LU0LYBSJLTYZPNMPTBZ1t1oDSoLKddpw4+Rht/KFGwhoJQY34vMAxDmxK8/1UUfT/cVXRQR7RovF8+NCh2R+zzN1XpxjVWFKAAoImozbd+DeEbw3QG7XTYG8EHdhUXJckWB/z+oF7/58Y6K0JJUiAYkb/CbRFRjkPTA6Fw3DIMkto4RG//KFm1TN9t2lHp9pdEomOzNGa0bQCSdKA0qH0HA7HrikAgXOP7YWN/L0j0/ldR9P0wFIpIylwBKtGXcQ6bqRyPS54sh2TY6vQ6yAqGzR77/I0EfUnH2Zxu5Q443cLMGh4KUADQRJT/1i8VLbKdGtH/qFptO8tpT3vsgtoM2nna4GO0YfMP6W24nlR1UVLV4KwVOT3ZGjD6fDnshkLJ1xEyikdyNwyRoK/K8VcSaepjswBo/Gr6zKj4ecNnTAPSwL6Ms0ok6JMZSL4A1fD3qO5RgAJQZxyOhvOWUqveQBFTtjSrKZnuSRT91q+2Uu0OXP4iItWnuKQ7aOfRR7VT7oDTldvCLU+WQw5HcheambogLX9RkmpxoKHjkdwAAKsk8xlTXsXPGz5jMi/VL+PCkbC8pV7l5uer8JwLG9WXcUis4fy1CKDBSaUIkZ2drYKCgpTjrJJub6B2eR4N6tUxYz2JGopUuxFv/KFE9uzcWj1eOeVBOyMhmZGILhk9OL0Npslmr98Bj6MFs0Q9iapavj7xSG4AgFWS/aKq4ucNnzENT7JfxoUjYflLSxXILuud2xiuhZAcClAAqpVKESIUDKlozx4d0fFI5Q8+ox6yq1k6vYFaeJxpxzY1qXQjDnpLZdpcFmcUL/pt2scvPa1IKCi7LbmLjdqOdWM3VOOAx3HbKzf4sd30Jz3IaXXf+CbbZT0T3/jySG4AgFVq+qKq4ucNnzGNX2O8FkJiFKAAJJRsESISDCrkO6hICvc9A3XB7z0oMxRKugBVVxekyQ74WX7wY0ck+bv9K37jm6gnUXl84wsAAJoCroWaHgpQzVxjf2oWkAkOu00Oe+W2n+Wkuy/qXvQb30Q9icrjG18AANCUcC3UdFCAaubSHScnr1WWhpzwk7S3S/EKjZXDbtPZw7ooK8uZcmxDGBsLAAAAADKBAhTSHicnk498BzLFYTeUleXUqqUvKVhhHAKXy64uR+ZWGWdzupU74PT6SBEAAAAAGhwKUKgVBmpGcxX0llYaCNMI22UGsqpcPvmRfwAAAACg6eFeEAAAAAAAAFiKAhQAAAAAAAAsRQEKAAAAAAAAlqIABQAAAAAAAEtRgAIAAAAAAIClKEABAAAAAADAUhSgAAAAAAAAYCkKUAAAAAAAALAUBSgAAAAAAABYigIUAAAAAAAALEUBCgAAAAAAAJaiAAUAAAAAAABLUYACAAAAAACApShAAQAAAAAAwFIUoAAAAAAAAGApClAAAAAAAACwFAUoAAAAAAAAWIoCFAAAAAAAACxFAQoAAAAAAACWogAFAAAAAAAAS1GAAgAAAAAAgKWaTQEqEonooYce0rBhw9S3b19dfvnl2rp1a6bTAgAAAAAAaPKaTQHqT3/6k55//nndfffdevHFFxWJRHTZZZcpEAhkOjUAAAAAAIAmrVkUoAKBgBYvXqxrr71WI0aMUM+ePfXggw9q+/bteueddzKdHgAAAAAAQJPWLApQa9eu1cGDBzV06NDYtFatWqlXr1769NNPM5gZAAAAAABA02eYpmlmOgmrvfPOO/r973+v//znP3K73bHpf/jDH+Tz+fT444+ntL7PPvtMpmnK6XTWdap1wjRNhUIhORwOGYaRcFnDMOT1h5RqM7DbbMpy2dOKNQxDnixHynGof4ZhKOIvlZI4V6bKxlqz2e2yZ2Vn/PwahiFfIFRD6qak+NeIzWYoy2mvNtaQ5M5yKFB6sNI+GobksNuqPl6GIZvFx6Xqfa68j1WkJrcr/jWZyrmXYSgUjsgwbHJ6sqs8NlWxGZLdblPYlJzu5ONisQ6HbC63AqUHDsUl3s9YrK0sz0jAq1AonNQulo8LeQ/KZivb52Rio3GB0oMyZMputyUVWz7ONM3Y8aoptmJcbHoS8enGVhdXU2yiuESxhmHIlZ0jnz+kRIex4us50es30bYrt21Tpmke+oz9/+3de3RNZ/7H8U+uRKRxaSKqSIlg2oSoS+IWIcwszJpE6CzVqVvGaDTaQSUunRgVMq0EQ8vECmGqilxOkXape7GIqstSiUo7GZfOLEEQrVtS+f1h5YwjiYbmZOd38n6tdf7Is5+99+fsvc9Zx9ezn13+uqu+a7vq691/v092bf+SdY3+XEi2dW0/er37152DvX25dX9uf4/a95Oua9x3fs18Loy+tq39nV/1a7v8913t+lxUvj7X9qPXe9xr+8F1i2/9KAd7u6r9Try/ouydXf7329Lu5/Z7/7qzd3CUcy35XDz4O//hVe0eeH+Pcw7tauDfBzWhuLhYdnZ26tKly8/2rRMFqE8++UTTp09Xbm6u7O3/N+hr+vTpKigoUGpq6mNt79ixY7W6AAUAAAAAAGBtZQWogICAn+3rWAN5DFc26unu3bsWI6Du3LkjFxeXx95eVQ4sAAAAAAAA7qsTc0A1b95cklRQUGDRXlBQoGbNmhkRCQAAAAAAoM6oEwWoDh06qGHDhsrOzja3FRUVKScnR926dTMwGQAAAAAAgO2rE7fgOTs765VXXtHChQvVpEkTtWjRQu+99568vLw0aNAgo+MBAAAAAADYtDpRgJKkyZMnq6SkRLNnz9bt27fVrVs3paSkMJE4AAAAAACAldWJp+ABAAAAAADAOHViDigAAAAAAAAYhwIUAAAAAAAArIoCFAAAAAAAAKyKAhQAAAAAAACsigIUAAAAAAAArIoCFAAAAAAAAKyKApQNuXbtmv7yl7+ob9++6tKli0aOHKkjR44YHQs27sqVK3rrrbcUGBiogIAATZgwQd99953RsVCH5OfnKyAgQBkZGUZHQR1w8eJFtW/fvtyL6w/WZDKZNHjwYPn5+WnIkCH67LPPjI4EG5ednV3hd1379u01YMAAo+PBhpWUlGjJkiUKCQlRQECARo0apePHjxsdC9XE0egAqD5TpkzRpUuXlJSUpKZNm+qf//ynxo8fr8zMTLVp08boeLBRkyZN0r1795ScnCxXV1ctWbJEY8aM0eeffy4XFxej48HGFRcXa9q0abp586bRUVBHnD59WvXq1dOOHTtkZ2dnbndzczMwFWzZJ598olmzZmnmzJnq06ePsrKyNGXKFHl5eSkgIMDoeLBRAQEB2r9/v0Xb8ePHFR0draioKINSoS5Yvny5Nm3apISEBLVs2VIrV65UZGSkPv30U3l6ehodD78QI6BsxNmzZ3XgwAHNmTNHXbt21XPPPae3335bnp6e2rJli9HxYKOuX7+uFi1aaN68efL391fbtm0VFRWlgoIC5eXlGR0PdcDSpUvVsGFDo2OgDjlz5oy8vb3l6ekpDw8P86t+/fpGR4MNKi0t1ZIlS/Tqq69q1KhRatWqlV577TX17NlThw8fNjoebJizs7PFd5yrq6sWLFig8PBwRUREGB0PNmzHjh0aOnSoevfurdatWys2NlY3btxgFJSNYASUjWjcuLGSk5Pl5+dnbrOzs5OdnZ2KiooMTAZb5u7ursTERPPfhYWFSk1NlZeXl3x8fAxMhrrgyy+/1IYNG2QymdSvXz+j46CO+Oabb9S2bVujY6COyM/P1/fff6/f/va3Fu0pKSkGJUJdtWLFCt26dUsxMTFGR4GNa9q0qXbv3q1XXnlFzZs314YNG+Ts7KwOHToYHQ3VgBFQNuKpp55ScHCwnJ2dzW3btm3T2bNn1adPHwOToa54++23FRQUpKysLMXHx6tBgwZGR4INKyoq0vTp0zV79mw1b97c6DioQ86cOaPCwkKNGjVKPXv21MiRI/XFF18YHQs2Kj8/X5J08+ZNjR8/XkFBQRoxYoR27dplcDLUJWX/wThx4kQ1atTI6DiwcbNmzZKTk5MGDBggPz8/LVq0SH//+9/VqlUro6OhGlCAslFHjx7VjBkzNGjQIEYGoEaMHj1a6enpGjp0qCZNmqRTp04ZHQk2bM6cOQoICCg3KgCwppKSEv3rX//S9evXFR0dreTkZHXu3FkTJkzQwYMHjY4HG/TDDz9IkmJiYjR06FCtWrVKvXr1UlRUFNccasxHH30kNzc3/f73vzc6CuqAb7/9Vm5ubnr//fe1YcMGDRs2TNOmTVNubq7R0VANuAXPBu3YsUPTpk1Tly5dtHDhQqPjoI4ou+UuPj5eJ06c0IcffqgFCxYYnAq2yGQy6ciRI8xvhxrn6Oio7OxsOTg4mOd8euGFF5SXl6eUlBQFBQUZnBC2xsnJSZI0fvx4hYeHS5I6duyonJwcrV69mmsONcJkMiksLIy57mB1//3vfzV16lSlpqaqa9eukiQ/Pz99++23Wrp0qT744AODE+KXYgSUjfnwww8VHR2tkJAQrVixQvXq1TM6EmxYYWGhsrKyVFJSYm6zt7eXj4+PCgoKDEwGW5aenq4rV66oX79+CggIMD8FKi4uTpGRkQang61zdXUt94+wdu3a6eLFiwYlgi1r1qyZJMnX19ei3cfHRxcuXDAiEuqY06dP6/z584w4Ro04ceKEiouLLeY1lqROnTrp7NmzBqVCdaIAZUM++ugjvfPOOxo1apSSkpIs5oMCrOHy5cuaMmWKxW0AxcXFysnJYZJeWM3ChQv16aefymQymV+SNHnyZMXHxxsbDjYtLy9PXbp0UXZ2tkX7119/zYMXYBXPP/+8XF1ddeLECYv2M2fOMB8KasSRI0fUtGlTJoBGjfDy8pJ0/4EfDyp7Ai3+/+MWPBuRn5+v+fPna+DAgfrTn/6ky5cvm5fVr19fbm5uBqaDrfL19VXfvn01b948zZs3T+7u7vrHP/6hoqIijRkzxuh4sFFlIwIe1rRp00qXAdWhbdu2atOmjebOnau//vWvaty4sTZu3Kjjx48rPT3d6HiwQfXr11dkZKTef/99NWvWTP7+/srKytKBAweUmppqdDzUATk5OWrfvr3RMVBH+Pv768UXX1RMTIzi4uLk5eUlk8mkgwcPav369UbHQzWgAGUjtm3bpuLiYm3fvl3bt2+3WBYeHq6EhASDksHWJSUlKTExUX/+859148YNde3aVevWrdMzzzxjdDQAqFb29vZasWKFEhMT9eabb6qoqEi/+tWvtHr16nK3SAHVJSoqSi4uLlq0aJEuXryotm3baunSperRo4fR0VAHXLp0iSffocbY29tr+fLlWrx4sWbMmKHr16/L19dXqamp6tSpk9HxUA3sSktLS40OAQAAAAAAANvFHFAAAAAAAACwKgpQAAAAAAAAsCoKUAAAAAAAALAqClAAAAAAAACwKgpQAAAAAAAAsCoKUAAAAAAAALAqClAAAAAAAACwKgpQAAAAAAAAsCpHowMAAABUxVdffaXU1FQdPXpURUVF8vT0VFBQkMaOHau2bdtKkn7961/L0dFRWVlZFW7j7t276tOnj4KDg/Xuu+8qNjZWmZmZle7z6aef1oEDBySp0r4NGjTQs88+q2HDhmns2LEVbmfq1KnaunWrYmJiNG7cuHLLY2NjdfjwYe3atavSLBkZGZoxY4Z27typZ599ttJ+VfXVV19p5cqVOnbsmH788Uc9/fTT6tmzp1577TW1bNmyXP+TJ09q7dq1+vLLL1VYWGg+/hMmTKiwf1XOV5n+/fvr+++/t2izt7dXw4YN1a5dO02cOFF9+/Z9ZP8HDR48WIsWLXrcQwIAAKyIAhQAAKj1kpOTlZSUpN69e2vmzJny8PDQ2bNntX79eoWHh2vBggUaMmSIhg0bpqSkJOXm5qpjx47ltrNnzx5du3ZNI0aMMLd5eHho2bJlFe7XycnJ4u+H+5aWlury5cv6+OOPlZCQoHr16unll1+2WOfGjRvasWOHfH19tWHDBo0dO1Z2dna/5HD8YgcPHlRkZKQGDhyo+Ph4ubm56dy5c1q1apWGDx+uTZs2qVWrVub+69at0/z589WjRw9NnTpVnp6eOnv2rFJSUvT5559rzZo16tChg7l/Vc/Xg4KDgxUVFWX+u6SkROfOnVNycrKioqKUlpZmsY+H+z+ocePG1XWoAABANaEABQAAarXdu3crMTFR0dHRev31183t3bt3V1hYmKZOnarY2Fj5+voqLCxMS5Ys0ebNmyssQGVmZsrb21vdunUztzk7O6tz585VylJZ3379+ik0NFQZGRnlClBbt26VJM2aNUujR4/WoUOHFBQUVKX9WcuKFSvk7++vxYsXm9t69Oih4OBgDRw4UKtXr1ZcXJyk+yOZ4uPjNWrUKM2aNcuif2hoqMLCwjRz5kxlZGRIerzz1a5dO/PyJk2alDu2Xbt2VadOnTR48GBt3rzZogBVUX8AAFB7MQcUAACo1ZYtW6Y2bdpo0qRJ5ZY5OTlp7ty5cnBw0MqVK9WsWTP16dNHWVlZunfvnkXfwsJC7du3TxEREdWe0cnJSS4uLhWObEpPT1dQUJACAwPVunVrffzxx9W+/8d1+fJllZaWlmv39PTU7Nmz1atXL3NbSkqK3NzcNGXKlHL9mzRpotjYWA0YMEA3b96U9HjnqyqeeuopSTJ81BgAAPhlKEABAIBaq7CwUF9//bVCQkIqLUA0atRIPXv21M6dOyVJERERunjxog4fPmzRb+vWrSotLVV4eHi5bZSUlFT4qqhI8+Dyu3fv6sKFC1qwYIHy8/MVFhZm0TcvL08nT540t4eFhWnnzp26fPnyExyN6tOvXz8dO3ZMf/jDH5SWlqbz58+bl40YMUKhoaGS7t9iuH//fgUFBcnFxaXCbQ0ePFiTJk1SgwYNnuh8lSktLbU4trdu3dLp06cVExMjJycnDR069JH9H3wBAIDah1vwAABArVU20XSLFi0e2a9169bauXOnrl+/rpCQEDVp0kRbtmxRYGCguY/JZFLfvn3l4eFRbh/PP/98hdudPn26xo8f/7N9vb29FRcXp5EjR1q0p6enq1GjRurfv78kKTw8XEuXLlVaWpomTpz4yPdkTW+88YZu3LihtLQ0c6HOy8tLwcHBGjNmjNq0aSNJunr1qu7cuVPlSc+f5Hy5u7tLun9+TCaTRT9HR0e98MILSklJKXdLZUX9y6SlpcnPz69KmQEAQM2gAAUAAGqtshFID08G/jAHBwdzfycnJ/3ud79Tenq64uLi5OzsrLy8PJ06darC28I8PDy0fPnyCrfbvHnzSvsWFRXpgw8+0Llz55SQkKCAgACLvsXFxdq8ebNCQ0N1+/Zt3b59W66urnrxxRe1ceNGTZgwQfb2xgxGd3Z21ty5cxUdHa29e/fq0KFDys7O1oYNG5SRkaGkpCQNGjTIfFx/+umnKm33Sc5XmZCQEPP5OXfunN577z01a9ZMy5YtK1c0fLj/w3x8fKqUFwAA1BwKUAAAoNYqG0lTNrKmMufPn5erq6saNWok6f5teKtXr9aePXs0aNAgZWZmysPDQ/369Su3rrOzc5VHyzzct0uXLoqIiNAf//hHbdq0Sc8995x52Z49e3TlyhWlpaUpLS2t3Lb27dun4ODgKu3XWjw8PDR8+HANHz5cknTo0CG99dZbmjNnjkJDQ+Xu7i5XV1f95z//qXQbN2/eVHFxsdzd3Z/4fEn3b80rO7Z+fn5q3769+dhu3LhRzs7OFtt4sD8AAKj9mAMKAADUWk2bNlXnzp21bdu2cpOKl/nhhx904MAB821uktSuXTt16tRJW7du1b1797RlyxaFh4ebR95UFxcXFyUkJOjHH3/UjBkzLEb0pKenq2XLllq7dq3Fa82aNXJzczNsMvITJ06oZ8+eOnDgQLllgYGBGj9+vK5cuaKrV69Kknr37q3s7GzduXOnwu1t3LhRgYGBOnXq1BOfr4r4+Pho8uTJys3N1bJlyx7zXQIAgNqGAhQAAKjVXn/9deXn5yspKancsp9++klxcXG6ffu2IiMjLZZFREToiy++0P79+1VQUGCVp99Jkr+/v1566SUdO3bMPCfRpUuXtG/fPg0ZMkQ9evSweAUGBuo3v/mN9u7dq4sXL1ol06N4e3vr1q1bWrt2bYVFovz8fHl4eKhJkyaSpHHjxunatWtavHhxub6XLl3SqlWr5OPjY54b60nPV0VGjx4tX19frVq1Sv/+978f740CAIBahVvwAABArdanTx/Fxsbq3XffVW5uriIiIuTp6akLFy5o/fr1ys3NVXx8vDp06GCx3pAhQ7RgwQLFx8ere/fu8vb2rnD7d+/e1fHjxyvdf/v27St9AlyZN998U5999pkSExM1cOBAmUwmlZSUaMiQIRX2DwsL06ZNm7Rx40ZFR0dLuj8yKDU1tVzfZ555RoMGDTL/nZ6ebp64u4y9vb1effXVR2Ys4+7urpiYGMXFxenll1/WSy+9pJYtW+rGjRvavn27MjMztXDhQvNT7Dp37qw33nhDixcv1nfffaewsDA1btxYeXl5SklJ0Z07dyyKU096viri6OiomTNnasyYMZo/f76Sk5PNywoLCys9bw4ODtyeBwBALWNXWtHzhQEAAGqZ48ePa82aNTp69KgKCwvl4eGhXr16afTo0ZVOOh0TEyOTyaS//e1vCgsLK7c8NjZWmZmZj9yvyWRSx44dFRsbq8OHD2vXrl0V9lu3bp3mzp2rcePGac+ePXJwcNDWrVsr7FtaWqrQ0FAVFxdr9+7dmjVrVqU5goKClJqaqoyMDM2YMaPCPg4ODsrJyXnk+3jYwYMHtXbtWp08eVLXrl2Tq6ur/P39FRkZqR49epTrv3fvXq1bt045OTm6fv26mjdvrqCgIE2cOLHcZO3S452v/v37q3v37kpISKgw6+TJk7Vt2zatWLFCISEh6t+//yPnmXJzc9ORI0ce63gAAADrogAFAAAAAAAAq+IWPAAAABtw7969Sif+fpCjIz//AABAzWMEFAAAgA2oyu2EkvTNN9/UQBoAAABLFKAAAABswIULF3T16tWf7cfk3AAAwAgUoAAAAAAAAGBV9kYHAAAAAAAAgG2jAAUAAAAAAACrogAFAAAAAAAAq6IABQAAAAAAAKuiAAUAAAAAAACrogAFAAAAAAAAq6IABQAAAAAAAKuiAAUAAAAAAACr+j8RmmqyTjKQAQAAAABJRU5ErkJggg==",
      "text/plain": [
       "<Figure size 1200x600 with 1 Axes>"
      ]
     },
     "metadata": {},
     "output_type": "display_data"
    }
   ],
=======
   "execution_count": null,
   "metadata": {},
   "outputs": [],
>>>>>>> main
   "source": [
    "print(my_comparer.df_1[\"OVERALL_SCORE\"].mean())\n",
    "print(my_comparer.df_2[\"OVERALL_SCORE\"].mean())\n",
    "my_comparer.compare_column_distribution(\"OVERALL_SCORE\")"
   ]
  },
  {
   "attachments": {},
   "cell_type": "markdown",
   "metadata": {},
   "source": [
    "## 3.3.2 Score per Index"
   ]
  },
  {
   "cell_type": "code",
   "execution_count": null,
   "metadata": {},
   "outputs": [],
   "source": [
    "index_list=[\n",
    "    [\"WP\", \"Workplace\"],\n",
    "    [\"CE\", \"Community and Environment\"],\n",
    "    [\"MP\", \"Marketplace\"]\n",
    "]\n",
    "\n",
    "for i in index_list:\n",
    "    print(i)\n",
    "    my_comparer.compare_column_distribution(\n",
    "        column_name=\"SCALED_OBS_VALUE\",\n",
    "        filter_to_subset_df_1=my_comparer.df_1_filtered['INDICATOR_INDEX']==i[0],\n",
    "        filter_to_subset_df_2=my_comparer.df_2_filtered['INDICATOR_INDEX']==i[1]\n",
    "    )"
   ]
  },
  {
   "attachments": {},
   "cell_type": "markdown",
   "metadata": {},
   "source": [
    "### 3.3.3 Per issue"
   ]
  },
  {
   "cell_type": "code",
   "execution_count": null,
   "metadata": {},
   "outputs": [],
   "source": [
    "# issue_list=[\n",
    "#     [\"CHLD_LABOUR\", \"Child labour\"],\n",
    "#     [\"ONLINE_ABUSE_EXPL\", \"Online Abuse and exploitation\"],\n",
    "#     [\"MARKETING_ADV\", \"Marketing and Advertising\"],\n",
    "#     [\"RESOURCE_ENV_DAMAGE\", \"Resource use and damage to the environment\"],\n",
    "#     [\"LAND_RIGHTS\", \"Land rights\"],\n",
    "#     [\"SECURITY_ARRANGMENTS\", \"Security arrangements\"],\n",
    "#     [\"NAT_DISASTERS\", \"Natural disasters\"],\n",
    "#     [\"CH_RIGHTS_FULLF\", \"Fulfillment of children’s rights\"],\n",
    "#     [\"DECENT_WORK_COND\", \"Decent working conditions\"],\n",
    "#     [\"MAT_PAT_PROT\", \"Maternity and paternity protection\"],\n",
    "# ]\n",
    "\n",
    "# for i in index_list:\n",
    "#     print(i)\n",
    "#     my_comparer.compare_column_distribution(\n",
    "#         column_name=\"SCALED_OBS_VALUE\",\n",
    "#         filter_to_subset_df_1=my_comparer.df_1_filtered['INDICATOR_ISSUE']==i[0],\n",
    "#         filter_to_subset_df_2=my_comparer.df_2_filtered['INDICATOR_ISSUE']==i[1]\n",
    "#     )"
   ]
  },
  {
   "attachments": {},
   "cell_type": "markdown",
   "metadata": {},
   "source": [
    "## 3.4 Which country has improved/ worsened most?"
   ]
  },
  {
   "cell_type": "code",
<<<<<<< HEAD
   "execution_count": 3,
   "metadata": {},
   "outputs": [
    {
     "name": "stdout",
     "output_type": "stream",
     "text": [
      "Top 10 countries which improved most: \n",
      " \n",
      "     COUNTRY_ISO_3  OVERALL_SCORECHANGE\n",
      "159           SSD             1.152891\n",
      "157           SOM             0.860010\n",
      "45            DJI             0.834340\n",
      "64            GIN             0.809106\n",
      "172           TKM             0.723717\n",
      "65            GMB             0.701992\n",
      "36            COG             0.681892\n",
      "41            CUB             0.673233\n",
      "169           TGO             0.662295\n",
      "91            KIR             0.650873\n",
      "\n",
      " \n",
      " \n",
      " Bottom 10 countries which worsened most: \n",
      " \n",
      "     COUNTRY_ISO_3  OVERALL_SCORECHANGE\n",
      "177           TUR            -1.109033\n",
      "176           TUN            -0.511012\n",
      "94            KWT            -0.445096\n",
      "115           MLT            -0.384361\n",
      "80            IRQ            -0.348892\n",
      "123           MYS            -0.305010\n",
      "175           TTO            -0.279195\n",
      "124           NAM            -0.265314\n",
      "133           OMN            -0.242135\n",
      "62            GEO            -0.236778\n"
     ]
    },
    {
     "name": "stderr",
     "output_type": "stream",
     "text": [
      "d:\\Documents\\2023\\7_UNICEF\\major-dax-crba-etl\\crba-etl\\validation\\comparison_of_final_files\\compare_two_final_csvs.py:153: FutureWarning: The default value of numeric_only in DataFrameGroupBy.mean is deprecated. In a future version, numeric_only will default to False. Either specify numeric_only or select only columns which should be valid for the function.\n",
      "  mean_df_1 = self.df_1.groupby(\"COUNTRY_ISO_3\", as_index=False).mean()\n",
      "d:\\Documents\\2023\\7_UNICEF\\major-dax-crba-etl\\crba-etl\\validation\\comparison_of_final_files\\compare_two_final_csvs.py:154: FutureWarning: The default value of numeric_only in DataFrameGroupBy.mean is deprecated. In a future version, numeric_only will default to False. Either specify numeric_only or select only columns which should be valid for the function.\n",
      "  mean_df_2 = self.df_2.groupby(\"COUNTRY_ISO_3\", as_index=False).mean()\n"
     ]
    },
    {
     "data": {
      "image/png": "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",
      "text/plain": [
       "<Figure size 640x480 with 1 Axes>"
      ]
     },
     "metadata": {},
     "output_type": "display_data"
    }
   ],
=======
   "execution_count": null,
   "metadata": {},
   "outputs": [],
>>>>>>> main
   "source": [
    "my_comparer.compute_country_score_changes(target_col=\"OVERALL_SCORE\")"
   ]
  },
  {
   "attachments": {},
   "cell_type": "markdown",
   "metadata": {},
   "source": [
    "## 3.5 For which observations has TIME_PERIOD become older?"
   ]
  },
  {
   "cell_type": "code",
   "execution_count": null,
   "metadata": {},
   "outputs": [],
   "source": [
    "my_comparer.calculate_percentage_of_updated_observations()"
   ]
  },
  {
   "attachments": {},
   "cell_type": "markdown",
<<<<<<< HEAD
=======
   "metadata": {},
   "source": [
    "## 3.6 Which indicators have been retired/ added between 2020 and 2023? "
   ]
  },
  {
   "cell_type": "code",
   "execution_count": null,
   "metadata": {},
   "outputs": [],
   "source": [
    "my_comparer.find_unique_values(\"INDICATOR_CODE\")"
   ]
  },
  {
   "cell_type": "code",
   "execution_count": null,
>>>>>>> main
   "metadata": {},
   "outputs": [],
   "source": [
    "unique_2020 = ['CE_LR_LF_CORIIP',\n",
    " #'CE_ND_OC_NEDPND', # Will be gone when Lasse merged nltp stopwords\n",
    " #'CE_ND_OC_NPIDND', # Will be gone when Lasse merged nltp stopwords\n",
    " 'CE_SA_LF_USCHHP',\n",
    " #'CE_SA_OC_NEDPCV', # Will be gone when Lasse merged nltp stopwords\n",
    " #'CE_SA_OC_NPIDCV', # Will be gone when Lasse merged nltp stopwords\n",
    " #'CE_SA_OC_REUSCH', # Will be gone when Lasse merged nltp stopwords\n",
    " #'MP_MA_EN_OPPOAU', # Will be gone when Lasse merged nltp stopwords\n",
    " #'MP_MA_EN_OPPOTU', # Will be gone when Lasse merged nltp stopwords\n",
    " 'MP_OL_EN_CSAEGC',\n",
    " 'MP_OL_OC_CHSAEE',\n",
    " 'WP_CL_LF_CSAELF',\n",
    " 'WP_CL_OC_PRHAWA',\n",
    " 'WP_DW_LF_FREASS',\n",
    " 'WP_MP_EN_MALECB',\n",
    " 'WP_MP_OC_COMALE',\n",
    " 'WP_MP_OC_MACABE']\n",
    "unique_2023 = ['CE_ND_OC_NEDIND',\n",
    " 'CE_ND_OC_NUIDND',\n",
    " 'CE_SA_OC_NEDICV',\n",
    " 'CE_SA_OC_NUIDCV',\n",
    " 'CE_SA_OC_RECHHO',\n",
    " 'MP_MA_EN_OPPOAL',\n",
    " 'MP_MA_EN_OPPOTO']"
   ]
  },
  {
   "cell_type": "code",
<<<<<<< HEAD
   "execution_count": 10,
   "metadata": {},
   "outputs": [
    {
     "name": "stdout",
     "output_type": "stream",
     "text": [
      "Unique values only in DataFrame  1 ():\n",
      "{'CE_SA_LF_USCHHP', 'WP_CL_LF_CSAELF', 'MP_OL_OC_CHSAEE', 'MP_OL_EN_CSAEGC', 'WP_CL_OC_PRHAWA', 'WP_MP_OC_COMALE', 'WP_DW_LF_FREASS', 'WP_MP_EN_MALECB', 'WP_MP_OC_MACABE'}\n",
      "\n",
      "Unique values only in DataFrame 2:\n",
      "set()\n"
     ]
    }
   ],
=======
   "execution_count": null,
   "metadata": {},
   "outputs": [],
>>>>>>> main
   "source": [
    "dif_2020 = [\n",
    "    #'WP_MP_OC_MACABE', # Retired according to CRBA ticket\n",
    "    #'MP_OL_OC_CHSAEE', # Retired according to CRBA ticket\n",
    "    'CE_LR_LF_CORIIP', \n",
    "    #'WP_CL_OC_PRHAWA', # Retired according to CRBA ticket\n",
    "    #'CE_SA_LF_USCHHP', # Retired according to CRBA ticket\n",
    "    #'WP_CL_LF_CSAELF', # Retired according to CRBA ticket\n",
    "    #'MP_OL_EN_CSAEGC', # Retired according to CRBA ticket\n",
    "    #'WP_MP_EN_MALECB', # Retired according to CRBA ticket\n",
    "    #'WP_MP_OC_COMALE', # Retired according to CRBA ticket\n",
    "    'WP_DW_LF_FREASS' \n",
    "]\n",
    "len(dif_2020)\n"
   ]
  },
  {
   "cell_type": "code",
   "execution_count": null,
   "metadata": {},
   "outputs": [],
   "source": [
    "my_comparer.df_1[my_comparer.df_1[\"INDICATOR_CODE\"].isin(dif_2020)].groupby(['INDICATOR_CODE']).first()#[\"INDICATOR_CODE\"].unique()\n"
   ]
  },
  {
   "cell_type": "code",
   "execution_count": 29,
   "metadata": {},
   "outputs": [],
   "source": [
    "unique_2020 = ['CE_LR_LF_CORIIP',\n",
    " #'CE_ND_OC_NEDPND', # Will be gone when Lasse merged nltp stopwords\n",
    " #'CE_ND_OC_NPIDND', # Will be gone when Lasse merged nltp stopwords\n",
    " 'CE_SA_LF_USCHHP',\n",
    " #'CE_SA_OC_NEDPCV', # Will be gone when Lasse merged nltp stopwords\n",
    " #'CE_SA_OC_NPIDCV', # Will be gone when Lasse merged nltp stopwords\n",
    " #'CE_SA_OC_REUSCH', # Will be gone when Lasse merged nltp stopwords\n",
    " #'MP_MA_EN_OPPOAU', # Will be gone when Lasse merged nltp stopwords\n",
    " #'MP_MA_EN_OPPOTU', # Will be gone when Lasse merged nltp stopwords\n",
    " 'MP_OL_EN_CSAEGC',\n",
    " 'MP_OL_OC_CHSAEE',\n",
    " 'WP_CL_LF_CSAELF',\n",
    " 'WP_CL_OC_PRHAWA',\n",
    " 'WP_DW_LF_FREASS',\n",
    " 'WP_MP_EN_MALECB',\n",
    " 'WP_MP_OC_COMALE',\n",
    " 'WP_MP_OC_MACABE']\n",
    "unique_2023 = ['CE_ND_OC_NEDIND',\n",
    " 'CE_ND_OC_NUIDND',\n",
    " 'CE_SA_OC_NEDICV',\n",
    " 'CE_SA_OC_NUIDCV',\n",
    " 'CE_SA_OC_RECHHO',\n",
    " 'MP_MA_EN_OPPOAL',\n",
    " 'MP_MA_EN_OPPOTO']"
   ]
  },
  {
   "cell_type": "code",
   "execution_count": 11,
   "metadata": {},
   "outputs": [],
   "source": [
    "dif_2020 = [\n",
    "    #'WP_MP_OC_MACABE', # Retired according to CRBA ticket\n",
    "    #'MP_OL_OC_CHSAEE', # Retired according to CRBA ticket\n",
    "    'CE_LR_LF_CORIIP', #  no longer present, Lasse added it\n",
    "    #'WP_CL_OC_PRHAWA', # Retired according to CRBA ticket\n",
    "    #'CE_SA_LF_USCHHP', # Retired according to CRBA ticket\n",
    "    #'WP_CL_LF_CSAELF', # Retired according to CRBA ticket\n",
    "    #'MP_OL_EN_CSAEGC', # Retired according to CRBA ticket\n",
    "    #'WP_MP_EN_MALECB', # Retired according to CRBA ticket\n",
    "    #'WP_MP_OC_COMALE', # Retired according to CRBA ticket\n",
    "    #'WP_DW_LF_FREASS' # Retired according to CRBA ticket\n",
    "]\n",
    "len(dif_2020)\n",
    "\n",
    "my_list = ['CE_SA_LF_USCHHP', 'WP_CL_LF_CSAELF', 'MP_OL_OC_CHSAEE', 'MP_OL_EN_CSAEGC', 'WP_CL_OC_PRHAWA', 'WP_MP_OC_COMALE', 'WP_DW_LF_FREASS', 'WP_MP_EN_MALECB', 'WP_MP_OC_MACABE']\n"
   ]
  },
  {
   "cell_type": "code",
   "execution_count": 12,
   "metadata": {},
   "outputs": [
    {
     "data": {
      "text/html": [
       "<div>\n",
       "<style scoped>\n",
       "    .dataframe tbody tr th:only-of-type {\n",
       "        vertical-align: middle;\n",
       "    }\n",
       "\n",
       "    .dataframe tbody tr th {\n",
       "        vertical-align: top;\n",
       "    }\n",
       "\n",
       "    .dataframe thead th {\n",
       "        text-align: right;\n",
       "    }\n",
       "</style>\n",
       "<table border=\"1\" class=\"dataframe\">\n",
       "  <thead>\n",
       "    <tr style=\"text-align: right;\">\n",
       "      <th></th>\n",
       "      <th>COUNTRY_ISO_3</th>\n",
       "      <th>TIME_PERIOD</th>\n",
       "      <th>RAW_OBS_VALUE</th>\n",
       "      <th>INDICATOR_NAME</th>\n",
       "      <th>INDICATOR_INDEX</th>\n",
       "      <th>INDICATOR_ISSUE</th>\n",
       "      <th>INDICATOR_CATEGORY</th>\n",
       "      <th>ATTR_SOURCE</th>\n",
       "      <th>ATTR_SOURCE_BODY</th>\n",
       "      <th>ATTR_UNIT_MEASURE</th>\n",
       "      <th>...</th>\n",
       "      <th>DIM_OCU_TYPE</th>\n",
       "      <th>DIM_MANAGEMENT_LEVEL</th>\n",
       "      <th>DIM_CAUSE_TYPE</th>\n",
       "      <th>CATEGORY_ISSUE_SCORE</th>\n",
       "      <th>ISSUE_INDEX_SCORE</th>\n",
       "      <th>ISSUE_INDEX_RISK_CATEGORY</th>\n",
       "      <th>INDEX_SCORE</th>\n",
       "      <th>INDEX_RISK_CATEGORY</th>\n",
       "      <th>OVERALL_SCORE</th>\n",
       "      <th>DATAFLOW</th>\n",
       "    </tr>\n",
       "    <tr>\n",
       "      <th>INDICATOR_CODE</th>\n",
       "      <th></th>\n",
       "      <th></th>\n",
       "      <th></th>\n",
       "      <th></th>\n",
       "      <th></th>\n",
       "      <th></th>\n",
       "      <th></th>\n",
       "      <th></th>\n",
       "      <th></th>\n",
       "      <th></th>\n",
       "      <th></th>\n",
       "      <th></th>\n",
       "      <th></th>\n",
       "      <th></th>\n",
       "      <th></th>\n",
       "      <th></th>\n",
       "      <th></th>\n",
       "      <th></th>\n",
       "      <th></th>\n",
       "      <th></th>\n",
       "      <th></th>\n",
       "    </tr>\n",
       "  </thead>\n",
       "  <tbody>\n",
       "    <tr>\n",
       "      <th>CE_SA_LF_USCHHP</th>\n",
       "      <td>AFG</td>\n",
       "      <td>2017.0</td>\n",
       "      <td>0.00</td>\n",
       "      <td>Use of children in hostilities prohibited</td>\n",
       "      <td>CE</td>\n",
       "      <td>SECURITY_ARRANGMENTS</td>\n",
       "      <td>LEG_FRAMEWORK_NAT</td>\n",
       "      <td>https://childsoldiersworldindex.org/\\r\\n</td>\n",
       "      <td>Child Soldiers Index</td>\n",
       "      <td>None</td>\n",
       "      <td>...</td>\n",
       "      <td>_T</td>\n",
       "      <td>_T</td>\n",
       "      <td>_T</td>\n",
       "      <td>6.666667</td>\n",
       "      <td>3.766349</td>\n",
       "      <td>High risk</td>\n",
       "      <td>3.645448</td>\n",
       "      <td>High risk</td>\n",
       "      <td>4.39452</td>\n",
       "      <td>PFP:CRBA(1.0)</td>\n",
       "    </tr>\n",
       "    <tr>\n",
       "      <th>MP_OL_EN_CSAEGC</th>\n",
       "      <td>AFG</td>\n",
       "      <td>2020.0</td>\n",
       "      <td>45.70</td>\n",
       "      <td>Child sexual abuse and exploitation. Governmen...</td>\n",
       "      <td>MP</td>\n",
       "      <td>ONLINE_ABUSE_EXPL</td>\n",
       "      <td>ENFORCEMENT</td>\n",
       "      <td>https://outoftheshadows.eiu.com/wp-content/upl...</td>\n",
       "      <td>Economist Intelligence Unit</td>\n",
       "      <td>IDX</td>\n",
       "      <td>...</td>\n",
       "      <td>_T</td>\n",
       "      <td>_T</td>\n",
       "      <td>_T</td>\n",
       "      <td>3.395000</td>\n",
       "      <td>4.710556</td>\n",
       "      <td>High risk</td>\n",
       "      <td>6.191781</td>\n",
       "      <td>Medium risk</td>\n",
       "      <td>4.39452</td>\n",
       "      <td>PFP:CRBA(1.0)</td>\n",
       "    </tr>\n",
       "    <tr>\n",
       "      <th>MP_OL_OC_CHSAEE</th>\n",
       "      <td>AFG</td>\n",
       "      <td>2020.0</td>\n",
       "      <td>45.00</td>\n",
       "      <td>Child sexual abuse and exploitation. Engagement.</td>\n",
       "      <td>MP</td>\n",
       "      <td>ONLINE_ABUSE_EXPL</td>\n",
       "      <td>OUTCOME</td>\n",
       "      <td>https://outoftheshadows.eiu.com/data-visualisa...</td>\n",
       "      <td>Economist Intelligence Unit</td>\n",
       "      <td>IDX</td>\n",
       "      <td>...</td>\n",
       "      <td>_T</td>\n",
       "      <td>_T</td>\n",
       "      <td>_T</td>\n",
       "      <td>7.403333</td>\n",
       "      <td>4.710556</td>\n",
       "      <td>High risk</td>\n",
       "      <td>6.191781</td>\n",
       "      <td>Medium risk</td>\n",
       "      <td>4.39452</td>\n",
       "      <td>PFP:CRBA(1.0)</td>\n",
       "    </tr>\n",
       "    <tr>\n",
       "      <th>WP_CL_LF_CSAELF</th>\n",
       "      <td>AFG</td>\n",
       "      <td>2020.0</td>\n",
       "      <td>51.90</td>\n",
       "      <td>Child sexual abuse and exploitation. Legal fra...</td>\n",
       "      <td>WP</td>\n",
       "      <td>CHLD_LABOUR</td>\n",
       "      <td>LEG_FRAMEWORK_NAT</td>\n",
       "      <td>https://outoftheshadows.eiu.com/data-visualisa...</td>\n",
       "      <td>Economist Intelligence Unit</td>\n",
       "      <td>IDX</td>\n",
       "      <td>...</td>\n",
       "      <td>_T</td>\n",
       "      <td>_T</td>\n",
       "      <td>_T</td>\n",
       "      <td>10.000000</td>\n",
       "      <td>5.083810</td>\n",
       "      <td>High risk</td>\n",
       "      <td>3.346330</td>\n",
       "      <td>High risk</td>\n",
       "      <td>4.39452</td>\n",
       "      <td>PFP:CRBA(1.0)</td>\n",
       "    </tr>\n",
       "    <tr>\n",
       "      <th>WP_CL_OC_PRHAWA</th>\n",
       "      <td>AFG</td>\n",
       "      <td>2020.0</td>\n",
       "      <td>14.00</td>\n",
       "      <td>Prevalence of hazardous work by adolescents</td>\n",
       "      <td>WP</td>\n",
       "      <td>CHLD_LABOUR</td>\n",
       "      <td>OUTCOME</td>\n",
       "      <td>http://www.ucw-project.org/info-country.aspx</td>\n",
       "      <td>UCW Project</td>\n",
       "      <td>PCNT</td>\n",
       "      <td>...</td>\n",
       "      <td>_T</td>\n",
       "      <td>_T</td>\n",
       "      <td>_T</td>\n",
       "      <td>2.600000</td>\n",
       "      <td>5.083810</td>\n",
       "      <td>High risk</td>\n",
       "      <td>3.346330</td>\n",
       "      <td>High risk</td>\n",
       "      <td>4.39452</td>\n",
       "      <td>PFP:CRBA(1.0)</td>\n",
       "    </tr>\n",
       "    <tr>\n",
       "      <th>WP_DW_LF_FREASS</th>\n",
       "      <td>AFG</td>\n",
       "      <td>2020.0</td>\n",
       "      <td>1.22</td>\n",
       "      <td>Freedom of association</td>\n",
       "      <td>WP</td>\n",
       "      <td>DECENT_WORK_COND</td>\n",
       "      <td>LEG_FRAMEWORK_NAT</td>\n",
       "      <td>http://labour-rights-indicators.la.psu.edu/.</td>\n",
       "      <td>Center for Global Workers’ Rights</td>\n",
       "      <td>IDX</td>\n",
       "      <td>...</td>\n",
       "      <td>_T</td>\n",
       "      <td>_T</td>\n",
       "      <td>_T</td>\n",
       "      <td>5.237143</td>\n",
       "      <td>2.327403</td>\n",
       "      <td>High risk</td>\n",
       "      <td>3.346330</td>\n",
       "      <td>High risk</td>\n",
       "      <td>4.39452</td>\n",
       "      <td>PFP:CRBA(1.0)</td>\n",
       "    </tr>\n",
       "    <tr>\n",
       "      <th>WP_MP_EN_MALECB</th>\n",
       "      <td>AFG</td>\n",
       "      <td>2010.0</td>\n",
       "      <td>0.00</td>\n",
       "      <td>Maternity leave cash benefits</td>\n",
       "      <td>WP</td>\n",
       "      <td>MAT_PAT_PROT</td>\n",
       "      <td>ENFORCEMENT</td>\n",
       "      <td>https://www.ilo.org/wcmsp5/groups/public/---dg...</td>\n",
       "      <td>ILO</td>\n",
       "      <td>None</td>\n",
       "      <td>...</td>\n",
       "      <td>_T</td>\n",
       "      <td>_T</td>\n",
       "      <td>_T</td>\n",
       "      <td>1.055000</td>\n",
       "      <td>2.627778</td>\n",
       "      <td>High risk</td>\n",
       "      <td>3.346330</td>\n",
       "      <td>High risk</td>\n",
       "      <td>4.39452</td>\n",
       "      <td>PFP:CRBA(1.0)</td>\n",
       "    </tr>\n",
       "    <tr>\n",
       "      <th>WP_MP_OC_COMALE</th>\n",
       "      <td>AFG</td>\n",
       "      <td>2010.0</td>\n",
       "      <td>2.00</td>\n",
       "      <td>Coverage of maternity leave</td>\n",
       "      <td>WP</td>\n",
       "      <td>MAT_PAT_PROT</td>\n",
       "      <td>OUTCOME</td>\n",
       "      <td>https://www.ilo.org/wcmsp5/groups/public/---dg...</td>\n",
       "      <td>ILO</td>\n",
       "      <td>None</td>\n",
       "      <td>...</td>\n",
       "      <td>_T</td>\n",
       "      <td>_T</td>\n",
       "      <td>_T</td>\n",
       "      <td>3.316667</td>\n",
       "      <td>2.627778</td>\n",
       "      <td>High risk</td>\n",
       "      <td>3.346330</td>\n",
       "      <td>High risk</td>\n",
       "      <td>4.39452</td>\n",
       "      <td>PFP:CRBA(1.0)</td>\n",
       "    </tr>\n",
       "    <tr>\n",
       "      <th>WP_MP_OC_MACABE</th>\n",
       "      <td>AFG</td>\n",
       "      <td>2010.0</td>\n",
       "      <td>2.00</td>\n",
       "      <td>Maternity cash benefits</td>\n",
       "      <td>WP</td>\n",
       "      <td>MAT_PAT_PROT</td>\n",
       "      <td>OUTCOME</td>\n",
       "      <td>https://www.ilo.org/wcmsp5/groups/public/---dg...</td>\n",
       "      <td>ILO</td>\n",
       "      <td>None</td>\n",
       "      <td>...</td>\n",
       "      <td>_T</td>\n",
       "      <td>_T</td>\n",
       "      <td>_T</td>\n",
       "      <td>3.316667</td>\n",
       "      <td>2.627778</td>\n",
       "      <td>High risk</td>\n",
       "      <td>3.346330</td>\n",
       "      <td>High risk</td>\n",
       "      <td>4.39452</td>\n",
       "      <td>PFP:CRBA(1.0)</td>\n",
       "    </tr>\n",
       "  </tbody>\n",
       "</table>\n",
       "<p>9 rows × 38 columns</p>\n",
       "</div>"
      ],
      "text/plain": [
       "                COUNTRY_ISO_3  TIME_PERIOD  RAW_OBS_VALUE  \\\n",
       "INDICATOR_CODE                                              \n",
       "CE_SA_LF_USCHHP           AFG       2017.0           0.00   \n",
       "MP_OL_EN_CSAEGC           AFG       2020.0          45.70   \n",
       "MP_OL_OC_CHSAEE           AFG       2020.0          45.00   \n",
       "WP_CL_LF_CSAELF           AFG       2020.0          51.90   \n",
       "WP_CL_OC_PRHAWA           AFG       2020.0          14.00   \n",
       "WP_DW_LF_FREASS           AFG       2020.0           1.22   \n",
       "WP_MP_EN_MALECB           AFG       2010.0           0.00   \n",
       "WP_MP_OC_COMALE           AFG       2010.0           2.00   \n",
       "WP_MP_OC_MACABE           AFG       2010.0           2.00   \n",
       "\n",
       "                                                    INDICATOR_NAME  \\\n",
       "INDICATOR_CODE                                                       \n",
       "CE_SA_LF_USCHHP          Use of children in hostilities prohibited   \n",
       "MP_OL_EN_CSAEGC  Child sexual abuse and exploitation. Governmen...   \n",
       "MP_OL_OC_CHSAEE   Child sexual abuse and exploitation. Engagement.   \n",
       "WP_CL_LF_CSAELF  Child sexual abuse and exploitation. Legal fra...   \n",
       "WP_CL_OC_PRHAWA        Prevalence of hazardous work by adolescents   \n",
       "WP_DW_LF_FREASS                             Freedom of association   \n",
       "WP_MP_EN_MALECB                      Maternity leave cash benefits   \n",
       "WP_MP_OC_COMALE                        Coverage of maternity leave   \n",
       "WP_MP_OC_MACABE                            Maternity cash benefits   \n",
       "\n",
       "                INDICATOR_INDEX       INDICATOR_ISSUE INDICATOR_CATEGORY  \\\n",
       "INDICATOR_CODE                                                             \n",
       "CE_SA_LF_USCHHP              CE  SECURITY_ARRANGMENTS  LEG_FRAMEWORK_NAT   \n",
       "MP_OL_EN_CSAEGC              MP     ONLINE_ABUSE_EXPL        ENFORCEMENT   \n",
       "MP_OL_OC_CHSAEE              MP     ONLINE_ABUSE_EXPL            OUTCOME   \n",
       "WP_CL_LF_CSAELF              WP           CHLD_LABOUR  LEG_FRAMEWORK_NAT   \n",
       "WP_CL_OC_PRHAWA              WP           CHLD_LABOUR            OUTCOME   \n",
       "WP_DW_LF_FREASS              WP      DECENT_WORK_COND  LEG_FRAMEWORK_NAT   \n",
       "WP_MP_EN_MALECB              WP          MAT_PAT_PROT        ENFORCEMENT   \n",
       "WP_MP_OC_COMALE              WP          MAT_PAT_PROT            OUTCOME   \n",
       "WP_MP_OC_MACABE              WP          MAT_PAT_PROT            OUTCOME   \n",
       "\n",
       "                                                       ATTR_SOURCE  \\\n",
       "INDICATOR_CODE                                                       \n",
       "CE_SA_LF_USCHHP           https://childsoldiersworldindex.org/\\r\\n   \n",
       "MP_OL_EN_CSAEGC  https://outoftheshadows.eiu.com/wp-content/upl...   \n",
       "MP_OL_OC_CHSAEE  https://outoftheshadows.eiu.com/data-visualisa...   \n",
       "WP_CL_LF_CSAELF  https://outoftheshadows.eiu.com/data-visualisa...   \n",
       "WP_CL_OC_PRHAWA      http://www.ucw-project.org/info-country.aspx    \n",
       "WP_DW_LF_FREASS       http://labour-rights-indicators.la.psu.edu/.   \n",
       "WP_MP_EN_MALECB  https://www.ilo.org/wcmsp5/groups/public/---dg...   \n",
       "WP_MP_OC_COMALE  https://www.ilo.org/wcmsp5/groups/public/---dg...   \n",
       "WP_MP_OC_MACABE  https://www.ilo.org/wcmsp5/groups/public/---dg...   \n",
       "\n",
       "                                  ATTR_SOURCE_BODY ATTR_UNIT_MEASURE  ...  \\\n",
       "INDICATOR_CODE                                                        ...   \n",
       "CE_SA_LF_USCHHP               Child Soldiers Index              None  ...   \n",
       "MP_OL_EN_CSAEGC        Economist Intelligence Unit               IDX  ...   \n",
       "MP_OL_OC_CHSAEE        Economist Intelligence Unit               IDX  ...   \n",
       "WP_CL_LF_CSAELF        Economist Intelligence Unit               IDX  ...   \n",
       "WP_CL_OC_PRHAWA                        UCW Project              PCNT  ...   \n",
       "WP_DW_LF_FREASS  Center for Global Workers’ Rights               IDX  ...   \n",
       "WP_MP_EN_MALECB                                ILO              None  ...   \n",
       "WP_MP_OC_COMALE                                ILO              None  ...   \n",
       "WP_MP_OC_MACABE                                ILO              None  ...   \n",
       "\n",
       "                DIM_OCU_TYPE  DIM_MANAGEMENT_LEVEL DIM_CAUSE_TYPE  \\\n",
       "INDICATOR_CODE                                                      \n",
       "CE_SA_LF_USCHHP           _T                    _T             _T   \n",
       "MP_OL_EN_CSAEGC           _T                    _T             _T   \n",
       "MP_OL_OC_CHSAEE           _T                    _T             _T   \n",
       "WP_CL_LF_CSAELF           _T                    _T             _T   \n",
       "WP_CL_OC_PRHAWA           _T                    _T             _T   \n",
       "WP_DW_LF_FREASS           _T                    _T             _T   \n",
       "WP_MP_EN_MALECB           _T                    _T             _T   \n",
       "WP_MP_OC_COMALE           _T                    _T             _T   \n",
       "WP_MP_OC_MACABE           _T                    _T             _T   \n",
       "\n",
       "                 CATEGORY_ISSUE_SCORE ISSUE_INDEX_SCORE  \\\n",
       "INDICATOR_CODE                                            \n",
       "CE_SA_LF_USCHHP              6.666667          3.766349   \n",
       "MP_OL_EN_CSAEGC              3.395000          4.710556   \n",
       "MP_OL_OC_CHSAEE              7.403333          4.710556   \n",
       "WP_CL_LF_CSAELF             10.000000          5.083810   \n",
       "WP_CL_OC_PRHAWA              2.600000          5.083810   \n",
       "WP_DW_LF_FREASS              5.237143          2.327403   \n",
       "WP_MP_EN_MALECB              1.055000          2.627778   \n",
       "WP_MP_OC_COMALE              3.316667          2.627778   \n",
       "WP_MP_OC_MACABE              3.316667          2.627778   \n",
       "\n",
       "                ISSUE_INDEX_RISK_CATEGORY INDEX_SCORE INDEX_RISK_CATEGORY  \\\n",
       "INDICATOR_CODE                                                              \n",
       "CE_SA_LF_USCHHP                 High risk    3.645448           High risk   \n",
       "MP_OL_EN_CSAEGC                 High risk    6.191781         Medium risk   \n",
       "MP_OL_OC_CHSAEE                 High risk    6.191781         Medium risk   \n",
       "WP_CL_LF_CSAELF                 High risk    3.346330           High risk   \n",
       "WP_CL_OC_PRHAWA                 High risk    3.346330           High risk   \n",
       "WP_DW_LF_FREASS                 High risk    3.346330           High risk   \n",
       "WP_MP_EN_MALECB                 High risk    3.346330           High risk   \n",
       "WP_MP_OC_COMALE                 High risk    3.346330           High risk   \n",
       "WP_MP_OC_MACABE                 High risk    3.346330           High risk   \n",
       "\n",
       "                OVERALL_SCORE       DATAFLOW  \n",
       "INDICATOR_CODE                                \n",
       "CE_SA_LF_USCHHP       4.39452  PFP:CRBA(1.0)  \n",
       "MP_OL_EN_CSAEGC       4.39452  PFP:CRBA(1.0)  \n",
       "MP_OL_OC_CHSAEE       4.39452  PFP:CRBA(1.0)  \n",
       "WP_CL_LF_CSAELF       4.39452  PFP:CRBA(1.0)  \n",
       "WP_CL_OC_PRHAWA       4.39452  PFP:CRBA(1.0)  \n",
       "WP_DW_LF_FREASS       4.39452  PFP:CRBA(1.0)  \n",
       "WP_MP_EN_MALECB       4.39452  PFP:CRBA(1.0)  \n",
       "WP_MP_OC_COMALE       4.39452  PFP:CRBA(1.0)  \n",
       "WP_MP_OC_MACABE       4.39452  PFP:CRBA(1.0)  \n",
       "\n",
       "[9 rows x 38 columns]"
      ]
     },
     "execution_count": 12,
     "metadata": {},
     "output_type": "execute_result"
    }
   ],
   "source": [
    "my_comparer.df_1[my_comparer.df_1[\"INDICATOR_CODE\"].isin(my_list)].groupby(['INDICATOR_CODE']).first()#[\"INDICATOR_CODE\"].unique()\n"
   ]
  },
  {
   "attachments": {},
   "cell_type": "markdown",
   "metadata": {},
   "source": [
    "## 3.7 Compairson of length of dataframe"
   ]
  },
  {
   "cell_type": "code",
   "execution_count": null,
   "metadata": {},
   "outputs": [],
   "source": [
    "my_comparer.compare_number_of_rows()"
   ]
  },
  {
   "attachments": {},
   "cell_type": "markdown",
   "metadata": {},
   "source": [
    "## 3.8 Compute distribution of rank changes"
   ]
  },
  {
<<<<<<< HEAD
   "cell_type": "code",
   "execution_count": 4,
   "metadata": {},
   "outputs": [
    {
     "name": "stdout",
     "output_type": "stream",
     "text": [
      "Top 10 countries which improved most: \n",
      " \n",
      "     COUNTRY_ISO_3  RANK_OVERALL_SCORECHANGE\n",
      "77            IND                      35.0\n",
      "151           SEN                      35.0\n",
      "172           TKM                      34.0\n",
      "51            EGY                      32.0\n",
      "41            CUB                      28.0\n",
      "65            GMB                      26.0\n",
      "148           RWA                      25.0\n",
      "166           SYC                      25.0\n",
      "169           TGO                      25.0\n",
      "99            LCA                      23.0\n",
      "\n",
      " \n",
      " \n",
      " Bottom 10 countries which worsened most: \n",
      " \n",
      "     COUNTRY_ISO_3  RANK_OVERALL_SCORECHANGE\n",
      "177           TUR                     -81.0\n",
      "176           TUN                     -43.0\n",
      "94            KWT                     -37.0\n",
      "123           MYS                     -27.0\n",
      "80            IRQ                     -26.0\n",
      "133           OMN                     -25.0\n",
      "124           NAM                     -24.0\n",
      "21            BLZ                     -23.0\n",
      "70            GTM                     -23.0\n",
      "79            IRN                     -23.0\n"
     ]
    },
    {
     "name": "stderr",
     "output_type": "stream",
     "text": [
      "d:\\Documents\\2023\\7_UNICEF\\major-dax-crba-etl\\crba-etl\\validation\\comparison_of_final_files\\compare_two_final_csvs.py:153: FutureWarning: The default value of numeric_only in DataFrameGroupBy.mean is deprecated. In a future version, numeric_only will default to False. Either specify numeric_only or select only columns which should be valid for the function.\n",
      "  mean_df_1 = self.df_1.groupby(\"COUNTRY_ISO_3\", as_index=False).mean()\n",
      "d:\\Documents\\2023\\7_UNICEF\\major-dax-crba-etl\\crba-etl\\validation\\comparison_of_final_files\\compare_two_final_csvs.py:154: FutureWarning: The default value of numeric_only in DataFrameGroupBy.mean is deprecated. In a future version, numeric_only will default to False. Either specify numeric_only or select only columns which should be valid for the function.\n",
      "  mean_df_2 = self.df_2.groupby(\"COUNTRY_ISO_3\", as_index=False).mean()\n"
     ]
    },
    {
     "data": {
      "image/png": "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",
      "text/plain": [
       "<Figure size 640x480 with 1 Axes>"
      ]
     },
     "metadata": {},
     "output_type": "display_data"
    }
   ],
   "source": [
    "my_comparer.compute_country_score_changes(target_col=\"RANK_OVERALL_SCORE\")"
   ]
  },
  {
   "attachments": {},
   "cell_type": "markdown",
   "metadata": {},
   "source": [
    "# 4 Export of datasets for further manual validation and sanity checks\n",
    "\n",
    "Compute the aggregate scores for all aggregation levels and create a wide-form dataframe"
   ]
  },
  {
   "cell_type": "code",
   "execution_count": 146,
   "metadata": {},
   "outputs": [],
   "source": [
    "aggregation_levels = [\n",
    "    ['INDICATOR_INDEX', 'INDEX_SCORE'],\n",
    "    ['INDICATOR_CATEGORY', 'CATEGORY_ISSUE_SCORE'],\n",
    "    ['INDICATOR_ISSUE', 'ISSUE_INDEX_SCORE']\n",
    "]\n",
    "\n",
    "# Aggregate to country level\n",
    "country_level = my_comparer.df_2.groupby(['COUNTRY_ISO_3']).first().reset_index()\n",
    "\n",
    "# Sparse dataframe to join everything to\n",
    "result_df = country_level[['COUNTRY_ISO_3', 'COUNTRY_NAME', 'OVERALL_SCORE']]\n"
   ]
  },
  {
   "cell_type": "code",
   "execution_count": 147,
   "metadata": {},
   "outputs": [
    {
     "name": "stderr",
     "output_type": "stream",
     "text": [
      "C:\\Users\\info\\AppData\\Local\\Temp\\ipykernel_37640\\4095296583.py:3: FutureWarning: The default value of numeric_only in DataFrameGroupBy.mean is deprecated. In a future version, numeric_only will default to False. Either specify numeric_only or select only columns which should be valid for the function.\n",
      "  country_i_level = my_comparer.df_2.groupby(['COUNTRY_ISO_3', i[0]]).mean().reset_index()\n",
      "C:\\Users\\info\\AppData\\Local\\Temp\\ipykernel_37640\\4095296583.py:3: FutureWarning: The default value of numeric_only in DataFrameGroupBy.mean is deprecated. In a future version, numeric_only will default to False. Either specify numeric_only or select only columns which should be valid for the function.\n",
      "  country_i_level = my_comparer.df_2.groupby(['COUNTRY_ISO_3', i[0]]).mean().reset_index()\n",
      "C:\\Users\\info\\AppData\\Local\\Temp\\ipykernel_37640\\4095296583.py:3: FutureWarning: The default value of numeric_only in DataFrameGroupBy.mean is deprecated. In a future version, numeric_only will default to False. Either specify numeric_only or select only columns which should be valid for the function.\n",
      "  country_i_level = my_comparer.df_2.groupby(['COUNTRY_ISO_3', i[0]]).mean().reset_index()\n"
     ]
    }
   ],
   "source": [
    "for i in aggregation_levels:\n",
    "    # Aggregate to specified level\n",
    "    country_i_level = my_comparer.df_2.groupby(['COUNTRY_ISO_3', i[0]]).mean().reset_index()\n",
    "\n",
    "    # Bring to wide format\n",
    "    country_i_level_pivot = country_i_level.pivot(index='COUNTRY_ISO_3', columns=i[0], values=i[1])\n",
    "\n",
    "    # Get back Overall score and country name\n",
    "    result_df = country_i_level_pivot.merge(result_df, on='COUNTRY_ISO_3', how='right')\n",
    "\n",
    "result_df = result_df.round(2)\n"
   ]
  },
  {
   "cell_type": "code",
   "execution_count": 149,
   "metadata": {},
   "outputs": [],
   "source": [
    "result_df.to_csv(\"country_aggregate_scores.csv\", \";\")"
=======
   "cell_type": "code",
   "execution_count": null,
   "metadata": {},
   "outputs": [],
   "source": [
    "my_comparer.compute_country_score_changes(target_col=\"RANK_OVERALL_SCORE\")"
   ]
  },
  {
   "attachments": {},
   "cell_type": "markdown",
   "metadata": {},
   "source": [
    "# 4 Export of datasets for further manual validation and sanity checks\n",
    "\n",
    "Compute the aggregate scores for all aggregation levels and create a wide-form dataframe"
   ]
  },
  {
   "cell_type": "code",
   "execution_count": null,
   "metadata": {},
   "outputs": [],
   "source": [
    "# Compute aggregated scores and add overall score: 2020\n",
    "aggregated_scores_2020 = my_comparer.create_aggregate_scores_df(my_comparer.df_1)\n",
    "aggregated_scores_2020 = aggregated_scores_2020.merge(my_comparer.df_1[[\"COUNTRY_ISO_3\", \"OVERALL_SCORE\"]].groupby(\"COUNTRY_ISO_3\").first(), on=\"COUNTRY_ISO_3\", how=\"left\")\n",
    "aggregated_scores_2020 = aggregated_scores_2020.add_suffix('_2020')\n",
    "\n",
    "# Compute aggregated scores and add overall score: 2023\n",
    "aggregated_scores_2023 = my_comparer.create_aggregate_scores_df(my_comparer.df_2)\n",
    "aggregated_scores_2023 = aggregated_scores_2023.merge(my_comparer.df_2[[\"COUNTRY_ISO_3\", \"OVERALL_SCORE\"]].groupby(\"COUNTRY_ISO_3\").first(), on=\"COUNTRY_ISO_3\", how=\"left\")\n",
    "aggregated_scores_2023 = aggregated_scores_2023.add_suffix('_2023')"
   ]
  },
  {
   "cell_type": "code",
   "execution_count": null,
   "metadata": {},
   "outputs": [],
   "source": [
    "# Join df\n",
    "aggregated_scores_combined = aggregated_scores_2020.merge(aggregated_scores_2023, on=\"COUNTRY_ISO_3\", suffixes=(\"_2020\", \"_2023\"))\n",
    "\n",
    "# Compute overall score diff\n",
    "aggregated_scores_combined[\"OVERALL_SCORE_DIFF\"] = aggregated_scores_combined[\"OVERALL_SCORE_2023\"] - aggregated_scores_combined[\"OVERALL_SCORE_2020\"]\n",
    "\n",
    "# Add country names\n",
    "aggregated_scores_combined = aggregated_scores_combined.merge(my_comparer.df_2[[\"COUNTRY_ISO_3\", \"COUNTRY_NAME\"]].groupby(\"COUNTRY_ISO_3\").first(), on=\"COUNTRY_ISO_3\", how=\"left\")"
   ]
  },
  {
   "cell_type": "code",
   "execution_count": null,
   "metadata": {},
   "outputs": [],
   "source": [
    "# Export\n",
    "aggregated_scores_combined.round(2).sort_index(axis=1).to_excel(\"aggregated_scores.xlsx\")"
>>>>>>> main
   ]
  }
 ],
 "metadata": {
  "kernelspec": {
   "display_name": "env",
   "language": "python",
   "name": "python3"
  },
  "language_info": {
   "codemirror_mode": {
    "name": "ipython",
    "version": 3
   },
   "file_extension": ".py",
   "mimetype": "text/x-python",
   "name": "python",
   "nbconvert_exporter": "python",
   "pygments_lexer": "ipython3",
   "version": "3.10.8"
  },
  "orig_nbformat": 4
 },
 "nbformat": 4,
 "nbformat_minor": 2
}
